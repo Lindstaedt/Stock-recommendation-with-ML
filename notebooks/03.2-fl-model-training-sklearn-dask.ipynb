{
 "cells": [
  {
   "cell_type": "markdown",
   "metadata": {},
   "source": [
    "# Stock purchase recommendations with Machine Learning - Model Training"
   ]
  },
  {
   "cell_type": "markdown",
   "metadata": {},
   "source": []
  },
  {
   "cell_type": "code",
   "execution_count": 13,
   "metadata": {
    "ExecuteTime": {
     "end_time": "2019-04-28T05:55:30.551286Z",
     "start_time": "2019-04-28T05:55:30.538285Z"
    }
   },
   "outputs": [],
   "source": [
    "import pandas as pd\n",
    "import numpy as np\n",
    "#import talib as ta\n",
    "import matplotlib.pyplot as plt\n",
    "from tqdm import tqdm, tqdm_notebook # progress bar\n",
    "import fastparquet\n",
    "import pickle\n",
    "\n",
    "from sklearn.pipeline import Pipeline\n",
    "from sklearn.metrics import classification_report\n",
    "from sklearn.metrics import confusion_matrix\n",
    "from sklearn.metrics import accuracy_score\n",
    "from sklearn.metrics import fbeta_score\n",
    "from sklearn.metrics import make_scorer\n",
    "from sklearn.model_selection import GridSearchCV\n",
    "from sklearn.model_selection import TimeSeriesSplit\n",
    "from sklearn.model_selection import RandomizedSearchCV\n",
    "from sklearn.preprocessing import StandardScaler\n",
    "\n",
    "from sklearn.ensemble import RandomForestClassifier\n",
    "\n",
    "from dask.distributed import Client, progress\n",
    "import dask_ml.model_selection as dcv\n",
    "\n",
    "from sklearn.externals import joblib"
   ]
  },
  {
   "cell_type": "code",
   "execution_count": null,
   "metadata": {
    "ExecuteTime": {
     "start_time": "2019-04-28T02:55:48.055Z"
    }
   },
   "outputs": [],
   "source": [
    "pd.set_option('display.max_columns', 1500)"
   ]
  },
  {
   "cell_type": "markdown",
   "metadata": {},
   "source": [
    "## 1) Load Training and Test Data"
   ]
  },
  {
   "cell_type": "code",
   "execution_count": 14,
   "metadata": {
    "ExecuteTime": {
     "end_time": "2019-04-28T05:55:34.822499Z",
     "start_time": "2019-04-28T05:55:34.295999Z"
    },
    "code_folding": []
   },
   "outputs": [
    {
     "data": {
      "text/plain": [
       "((7024, 693), (1756, 693), (7024,), (1756,))"
      ]
     },
     "execution_count": 14,
     "metadata": {},
     "output_type": "execute_result"
    }
   ],
   "source": [
    "# load the training and test datae from feature engineering step:\n",
    "X_train = fastparquet.ParquetFile('../data/processed/X_train.parq').to_pandas()\n",
    "X_test = fastparquet.ParquetFile('../data/processed/X_test.parq').to_pandas()\n",
    "y_train = pickle.load(open('../data/processed/y_train.pkl', 'rb'))\n",
    "y_test = pickle.load(open('../data/processed/y_test.pkl', 'rb'))\n",
    "\n",
    "X_train.shape, X_test.shape, y_train.shape, y_test.shape"
   ]
  },
  {
   "cell_type": "code",
   "execution_count": 3,
   "metadata": {
    "ExecuteTime": {
     "end_time": "2019-04-28T05:39:01.498961Z",
     "start_time": "2019-04-28T05:39:01.455459Z"
    }
   },
   "outputs": [
    {
     "data": {
      "text/html": [
       "<div>\n",
       "<style scoped>\n",
       "    .dataframe tbody tr th:only-of-type {\n",
       "        vertical-align: middle;\n",
       "    }\n",
       "\n",
       "    .dataframe tbody tr th {\n",
       "        vertical-align: top;\n",
       "    }\n",
       "\n",
       "    .dataframe thead th {\n",
       "        text-align: right;\n",
       "    }\n",
       "</style>\n",
       "<table border=\"1\" class=\"dataframe\">\n",
       "  <thead>\n",
       "    <tr style=\"text-align: right;\">\n",
       "      <th></th>\n",
       "      <th>AdjVolume_-19</th>\n",
       "      <th>AdjVolume_-18</th>\n",
       "      <th>AdjVolume_-17</th>\n",
       "      <th>AdjVolume_-16</th>\n",
       "      <th>AdjVolume_-15</th>\n",
       "      <th>AdjVolume_-14</th>\n",
       "      <th>AdjVolume_-13</th>\n",
       "      <th>AdjVolume_-12</th>\n",
       "      <th>AdjVolume_-11</th>\n",
       "      <th>AdjVolume_-10</th>\n",
       "      <th>...</th>\n",
       "      <th>weekday</th>\n",
       "      <th>day</th>\n",
       "      <th>AAPL.US</th>\n",
       "      <th>ABBV.US</th>\n",
       "      <th>AMZN.US</th>\n",
       "      <th>CSCO.US</th>\n",
       "      <th>GE.US</th>\n",
       "      <th>INTC.US</th>\n",
       "      <th>MSFT.US</th>\n",
       "      <th>NFLX.US</th>\n",
       "    </tr>\n",
       "    <tr>\n",
       "      <th>Index</th>\n",
       "      <th></th>\n",
       "      <th></th>\n",
       "      <th></th>\n",
       "      <th></th>\n",
       "      <th></th>\n",
       "      <th></th>\n",
       "      <th></th>\n",
       "      <th></th>\n",
       "      <th></th>\n",
       "      <th></th>\n",
       "      <th></th>\n",
       "      <th></th>\n",
       "      <th></th>\n",
       "      <th></th>\n",
       "      <th></th>\n",
       "      <th></th>\n",
       "      <th></th>\n",
       "      <th></th>\n",
       "      <th></th>\n",
       "      <th></th>\n",
       "      <th></th>\n",
       "    </tr>\n",
       "  </thead>\n",
       "  <tbody>\n",
       "    <tr>\n",
       "      <th>2017-05-10</th>\n",
       "      <td>1.193791</td>\n",
       "      <td>0.759857</td>\n",
       "      <td>0.816960</td>\n",
       "      <td>0.927417</td>\n",
       "      <td>0.791144</td>\n",
       "      <td>1.113186</td>\n",
       "      <td>0.810204</td>\n",
       "      <td>1.388600</td>\n",
       "      <td>0.931141</td>\n",
       "      <td>0.965937</td>\n",
       "      <td>...</td>\n",
       "      <td>2</td>\n",
       "      <td>10</td>\n",
       "      <td>0</td>\n",
       "      <td>1</td>\n",
       "      <td>0</td>\n",
       "      <td>0</td>\n",
       "      <td>0</td>\n",
       "      <td>0</td>\n",
       "      <td>0</td>\n",
       "      <td>0</td>\n",
       "    </tr>\n",
       "    <tr>\n",
       "      <th>2017-05-10</th>\n",
       "      <td>1.479636</td>\n",
       "      <td>0.943690</td>\n",
       "      <td>0.695273</td>\n",
       "      <td>0.775977</td>\n",
       "      <td>0.951766</td>\n",
       "      <td>0.693312</td>\n",
       "      <td>0.806673</td>\n",
       "      <td>0.893978</td>\n",
       "      <td>0.861651</td>\n",
       "      <td>0.904349</td>\n",
       "      <td>...</td>\n",
       "      <td>2</td>\n",
       "      <td>10</td>\n",
       "      <td>0</td>\n",
       "      <td>0</td>\n",
       "      <td>0</td>\n",
       "      <td>1</td>\n",
       "      <td>0</td>\n",
       "      <td>0</td>\n",
       "      <td>0</td>\n",
       "      <td>0</td>\n",
       "    </tr>\n",
       "    <tr>\n",
       "      <th>2017-05-10</th>\n",
       "      <td>0.792740</td>\n",
       "      <td>0.694295</td>\n",
       "      <td>0.645960</td>\n",
       "      <td>0.572547</td>\n",
       "      <td>0.675032</td>\n",
       "      <td>0.908420</td>\n",
       "      <td>0.674742</td>\n",
       "      <td>0.666782</td>\n",
       "      <td>0.709628</td>\n",
       "      <td>0.764080</td>\n",
       "      <td>...</td>\n",
       "      <td>2</td>\n",
       "      <td>10</td>\n",
       "      <td>1</td>\n",
       "      <td>0</td>\n",
       "      <td>0</td>\n",
       "      <td>0</td>\n",
       "      <td>0</td>\n",
       "      <td>0</td>\n",
       "      <td>0</td>\n",
       "      <td>0</td>\n",
       "    </tr>\n",
       "    <tr>\n",
       "      <th>2017-05-10</th>\n",
       "      <td>1.178886</td>\n",
       "      <td>1.523721</td>\n",
       "      <td>1.370172</td>\n",
       "      <td>1.439560</td>\n",
       "      <td>1.377645</td>\n",
       "      <td>1.350862</td>\n",
       "      <td>1.161777</td>\n",
       "      <td>1.496622</td>\n",
       "      <td>1.616429</td>\n",
       "      <td>1.229982</td>\n",
       "      <td>...</td>\n",
       "      <td>2</td>\n",
       "      <td>10</td>\n",
       "      <td>0</td>\n",
       "      <td>0</td>\n",
       "      <td>1</td>\n",
       "      <td>0</td>\n",
       "      <td>0</td>\n",
       "      <td>0</td>\n",
       "      <td>0</td>\n",
       "      <td>0</td>\n",
       "    </tr>\n",
       "    <tr>\n",
       "      <th>2017-05-10</th>\n",
       "      <td>0.958888</td>\n",
       "      <td>1.003052</td>\n",
       "      <td>0.935390</td>\n",
       "      <td>0.849433</td>\n",
       "      <td>1.512875</td>\n",
       "      <td>1.249828</td>\n",
       "      <td>1.822810</td>\n",
       "      <td>1.665799</td>\n",
       "      <td>1.680479</td>\n",
       "      <td>1.431698</td>\n",
       "      <td>...</td>\n",
       "      <td>2</td>\n",
       "      <td>10</td>\n",
       "      <td>0</td>\n",
       "      <td>0</td>\n",
       "      <td>0</td>\n",
       "      <td>0</td>\n",
       "      <td>0</td>\n",
       "      <td>0</td>\n",
       "      <td>1</td>\n",
       "      <td>0</td>\n",
       "    </tr>\n",
       "  </tbody>\n",
       "</table>\n",
       "<p>5 rows × 693 columns</p>\n",
       "</div>"
      ],
      "text/plain": [
       "            AdjVolume_-19  AdjVolume_-18  AdjVolume_-17  AdjVolume_-16  \\\n",
       "Index                                                                    \n",
       "2017-05-10       1.193791       0.759857       0.816960       0.927417   \n",
       "2017-05-10       1.479636       0.943690       0.695273       0.775977   \n",
       "2017-05-10       0.792740       0.694295       0.645960       0.572547   \n",
       "2017-05-10       1.178886       1.523721       1.370172       1.439560   \n",
       "2017-05-10       0.958888       1.003052       0.935390       0.849433   \n",
       "\n",
       "            AdjVolume_-15  AdjVolume_-14  AdjVolume_-13  AdjVolume_-12  \\\n",
       "Index                                                                    \n",
       "2017-05-10       0.791144       1.113186       0.810204       1.388600   \n",
       "2017-05-10       0.951766       0.693312       0.806673       0.893978   \n",
       "2017-05-10       0.675032       0.908420       0.674742       0.666782   \n",
       "2017-05-10       1.377645       1.350862       1.161777       1.496622   \n",
       "2017-05-10       1.512875       1.249828       1.822810       1.665799   \n",
       "\n",
       "            AdjVolume_-11  AdjVolume_-10   ...     weekday  day  AAPL.US  \\\n",
       "Index                                      ...                             \n",
       "2017-05-10       0.931141       0.965937   ...           2   10        0   \n",
       "2017-05-10       0.861651       0.904349   ...           2   10        0   \n",
       "2017-05-10       0.709628       0.764080   ...           2   10        1   \n",
       "2017-05-10       1.616429       1.229982   ...           2   10        0   \n",
       "2017-05-10       1.680479       1.431698   ...           2   10        0   \n",
       "\n",
       "            ABBV.US  AMZN.US  CSCO.US  GE.US  INTC.US  MSFT.US  NFLX.US  \n",
       "Index                                                                    \n",
       "2017-05-10        1        0        0      0        0        0        0  \n",
       "2017-05-10        0        0        1      0        0        0        0  \n",
       "2017-05-10        0        0        0      0        0        0        0  \n",
       "2017-05-10        0        1        0      0        0        0        0  \n",
       "2017-05-10        0        0        0      0        0        1        0  \n",
       "\n",
       "[5 rows x 693 columns]"
      ]
     },
     "execution_count": 3,
     "metadata": {},
     "output_type": "execute_result"
    }
   ],
   "source": [
    "# quick inspection\n",
    "X_train.tail()"
   ]
  },
  {
   "cell_type": "code",
   "execution_count": 4,
   "metadata": {
    "ExecuteTime": {
     "end_time": "2019-04-28T05:39:02.875214Z",
     "start_time": "2019-04-28T05:39:02.835716Z"
    }
   },
   "outputs": [
    {
     "data": {
      "text/html": [
       "<div>\n",
       "<style scoped>\n",
       "    .dataframe tbody tr th:only-of-type {\n",
       "        vertical-align: middle;\n",
       "    }\n",
       "\n",
       "    .dataframe tbody tr th {\n",
       "        vertical-align: top;\n",
       "    }\n",
       "\n",
       "    .dataframe thead th {\n",
       "        text-align: right;\n",
       "    }\n",
       "</style>\n",
       "<table border=\"1\" class=\"dataframe\">\n",
       "  <thead>\n",
       "    <tr style=\"text-align: right;\">\n",
       "      <th></th>\n",
       "      <th>AdjVolume_-19</th>\n",
       "      <th>AdjVolume_-18</th>\n",
       "      <th>AdjVolume_-17</th>\n",
       "      <th>AdjVolume_-16</th>\n",
       "      <th>AdjVolume_-15</th>\n",
       "      <th>AdjVolume_-14</th>\n",
       "      <th>AdjVolume_-13</th>\n",
       "      <th>AdjVolume_-12</th>\n",
       "      <th>AdjVolume_-11</th>\n",
       "      <th>AdjVolume_-10</th>\n",
       "      <th>...</th>\n",
       "      <th>weekday</th>\n",
       "      <th>day</th>\n",
       "      <th>AAPL.US</th>\n",
       "      <th>ABBV.US</th>\n",
       "      <th>AMZN.US</th>\n",
       "      <th>CSCO.US</th>\n",
       "      <th>GE.US</th>\n",
       "      <th>INTC.US</th>\n",
       "      <th>MSFT.US</th>\n",
       "      <th>NFLX.US</th>\n",
       "    </tr>\n",
       "    <tr>\n",
       "      <th>Index</th>\n",
       "      <th></th>\n",
       "      <th></th>\n",
       "      <th></th>\n",
       "      <th></th>\n",
       "      <th></th>\n",
       "      <th></th>\n",
       "      <th></th>\n",
       "      <th></th>\n",
       "      <th></th>\n",
       "      <th></th>\n",
       "      <th></th>\n",
       "      <th></th>\n",
       "      <th></th>\n",
       "      <th></th>\n",
       "      <th></th>\n",
       "      <th></th>\n",
       "      <th></th>\n",
       "      <th></th>\n",
       "      <th></th>\n",
       "      <th></th>\n",
       "      <th></th>\n",
       "    </tr>\n",
       "  </thead>\n",
       "  <tbody>\n",
       "    <tr>\n",
       "      <th>2017-05-11</th>\n",
       "      <td>0.639493</td>\n",
       "      <td>0.596356</td>\n",
       "      <td>0.541554</td>\n",
       "      <td>0.964530</td>\n",
       "      <td>0.796825</td>\n",
       "      <td>1.162128</td>\n",
       "      <td>1.062026</td>\n",
       "      <td>1.071385</td>\n",
       "      <td>0.912776</td>\n",
       "      <td>1.151286</td>\n",
       "      <td>...</td>\n",
       "      <td>3</td>\n",
       "      <td>11</td>\n",
       "      <td>0</td>\n",
       "      <td>0</td>\n",
       "      <td>0</td>\n",
       "      <td>0</td>\n",
       "      <td>0</td>\n",
       "      <td>0</td>\n",
       "      <td>1</td>\n",
       "      <td>0</td>\n",
       "    </tr>\n",
       "    <tr>\n",
       "      <th>2017-05-11</th>\n",
       "      <td>0.741068</td>\n",
       "      <td>0.590482</td>\n",
       "      <td>0.579214</td>\n",
       "      <td>0.780116</td>\n",
       "      <td>1.079741</td>\n",
       "      <td>0.958561</td>\n",
       "      <td>1.222818</td>\n",
       "      <td>1.029151</td>\n",
       "      <td>1.260323</td>\n",
       "      <td>1.712990</td>\n",
       "      <td>...</td>\n",
       "      <td>3</td>\n",
       "      <td>11</td>\n",
       "      <td>0</td>\n",
       "      <td>0</td>\n",
       "      <td>0</td>\n",
       "      <td>0</td>\n",
       "      <td>0</td>\n",
       "      <td>1</td>\n",
       "      <td>0</td>\n",
       "      <td>0</td>\n",
       "    </tr>\n",
       "    <tr>\n",
       "      <th>2017-05-11</th>\n",
       "      <td>0.665995</td>\n",
       "      <td>2.956990</td>\n",
       "      <td>3.554402</td>\n",
       "      <td>2.239698</td>\n",
       "      <td>1.309693</td>\n",
       "      <td>1.233189</td>\n",
       "      <td>0.866047</td>\n",
       "      <td>3.718421</td>\n",
       "      <td>1.661812</td>\n",
       "      <td>1.381076</td>\n",
       "      <td>...</td>\n",
       "      <td>3</td>\n",
       "      <td>11</td>\n",
       "      <td>0</td>\n",
       "      <td>0</td>\n",
       "      <td>0</td>\n",
       "      <td>0</td>\n",
       "      <td>0</td>\n",
       "      <td>0</td>\n",
       "      <td>0</td>\n",
       "      <td>1</td>\n",
       "    </tr>\n",
       "    <tr>\n",
       "      <th>2017-05-11</th>\n",
       "      <td>0.991471</td>\n",
       "      <td>0.730477</td>\n",
       "      <td>0.815267</td>\n",
       "      <td>0.999956</td>\n",
       "      <td>0.728416</td>\n",
       "      <td>0.847517</td>\n",
       "      <td>0.939242</td>\n",
       "      <td>0.905279</td>\n",
       "      <td>0.950139</td>\n",
       "      <td>1.596598</td>\n",
       "      <td>...</td>\n",
       "      <td>3</td>\n",
       "      <td>11</td>\n",
       "      <td>0</td>\n",
       "      <td>0</td>\n",
       "      <td>0</td>\n",
       "      <td>1</td>\n",
       "      <td>0</td>\n",
       "      <td>0</td>\n",
       "      <td>0</td>\n",
       "      <td>0</td>\n",
       "    </tr>\n",
       "    <tr>\n",
       "      <th>2017-05-11</th>\n",
       "      <td>0.696296</td>\n",
       "      <td>0.647822</td>\n",
       "      <td>0.574197</td>\n",
       "      <td>0.676977</td>\n",
       "      <td>0.911038</td>\n",
       "      <td>0.676686</td>\n",
       "      <td>0.668704</td>\n",
       "      <td>0.711673</td>\n",
       "      <td>0.766282</td>\n",
       "      <td>0.544953</td>\n",
       "      <td>...</td>\n",
       "      <td>3</td>\n",
       "      <td>11</td>\n",
       "      <td>1</td>\n",
       "      <td>0</td>\n",
       "      <td>0</td>\n",
       "      <td>0</td>\n",
       "      <td>0</td>\n",
       "      <td>0</td>\n",
       "      <td>0</td>\n",
       "      <td>0</td>\n",
       "    </tr>\n",
       "  </tbody>\n",
       "</table>\n",
       "<p>5 rows × 693 columns</p>\n",
       "</div>"
      ],
      "text/plain": [
       "            AdjVolume_-19  AdjVolume_-18  AdjVolume_-17  AdjVolume_-16  \\\n",
       "Index                                                                    \n",
       "2017-05-11       0.639493       0.596356       0.541554       0.964530   \n",
       "2017-05-11       0.741068       0.590482       0.579214       0.780116   \n",
       "2017-05-11       0.665995       2.956990       3.554402       2.239698   \n",
       "2017-05-11       0.991471       0.730477       0.815267       0.999956   \n",
       "2017-05-11       0.696296       0.647822       0.574197       0.676977   \n",
       "\n",
       "            AdjVolume_-15  AdjVolume_-14  AdjVolume_-13  AdjVolume_-12  \\\n",
       "Index                                                                    \n",
       "2017-05-11       0.796825       1.162128       1.062026       1.071385   \n",
       "2017-05-11       1.079741       0.958561       1.222818       1.029151   \n",
       "2017-05-11       1.309693       1.233189       0.866047       3.718421   \n",
       "2017-05-11       0.728416       0.847517       0.939242       0.905279   \n",
       "2017-05-11       0.911038       0.676686       0.668704       0.711673   \n",
       "\n",
       "            AdjVolume_-11  AdjVolume_-10   ...     weekday  day  AAPL.US  \\\n",
       "Index                                      ...                             \n",
       "2017-05-11       0.912776       1.151286   ...           3   11        0   \n",
       "2017-05-11       1.260323       1.712990   ...           3   11        0   \n",
       "2017-05-11       1.661812       1.381076   ...           3   11        0   \n",
       "2017-05-11       0.950139       1.596598   ...           3   11        0   \n",
       "2017-05-11       0.766282       0.544953   ...           3   11        1   \n",
       "\n",
       "            ABBV.US  AMZN.US  CSCO.US  GE.US  INTC.US  MSFT.US  NFLX.US  \n",
       "Index                                                                    \n",
       "2017-05-11        0        0        0      0        0        1        0  \n",
       "2017-05-11        0        0        0      0        1        0        0  \n",
       "2017-05-11        0        0        0      0        0        0        1  \n",
       "2017-05-11        0        0        1      0        0        0        0  \n",
       "2017-05-11        0        0        0      0        0        0        0  \n",
       "\n",
       "[5 rows x 693 columns]"
      ]
     },
     "execution_count": 4,
     "metadata": {},
     "output_type": "execute_result"
    }
   ],
   "source": [
    "X_test.head()"
   ]
  },
  {
   "cell_type": "code",
   "execution_count": 5,
   "metadata": {
    "ExecuteTime": {
     "end_time": "2019-04-28T05:39:03.971930Z",
     "start_time": "2019-04-28T05:39:03.946926Z"
    }
   },
   "outputs": [
    {
     "data": {
      "text/plain": [
       "Index\n",
       "2013-11-13    False\n",
       "2013-11-13    False\n",
       "2013-11-13    False\n",
       "2013-11-13     True\n",
       "2013-11-13     True\n",
       "Name: setup_for_profitable_trade, dtype: bool"
      ]
     },
     "execution_count": 5,
     "metadata": {},
     "output_type": "execute_result"
    }
   ],
   "source": [
    "y_train[:5]"
   ]
  },
  {
   "cell_type": "markdown",
   "metadata": {},
   "source": [
    "## 2) Build Initial Model - RandomForestClassifier"
   ]
  },
  {
   "cell_type": "markdown",
   "metadata": {},
   "source": [
    "Start the ML process with a simple out of the box RandomForestClassifier to get a base line and validate that the training data is functioning with sklearn and can generate some predictions."
   ]
  },
  {
   "cell_type": "code",
   "execution_count": 6,
   "metadata": {
    "ExecuteTime": {
     "end_time": "2019-04-28T05:39:06.201915Z",
     "start_time": "2019-04-28T05:39:06.187949Z"
    }
   },
   "outputs": [
    {
     "data": {
      "text/plain": [
       "{'memory': None,\n",
       " 'randomForest': RandomForestClassifier(bootstrap=True, class_weight=None, criterion='gini',\n",
       "             max_depth=None, max_features='auto', max_leaf_nodes=None,\n",
       "             min_impurity_decrease=0.0, min_impurity_split=None,\n",
       "             min_samples_leaf=1, min_samples_split=2,\n",
       "             min_weight_fraction_leaf=0.0, n_estimators='warn', n_jobs=None,\n",
       "             oob_score=False, random_state=None, verbose=0,\n",
       "             warm_start=False),\n",
       " 'randomForest__bootstrap': True,\n",
       " 'randomForest__class_weight': None,\n",
       " 'randomForest__criterion': 'gini',\n",
       " 'randomForest__max_depth': None,\n",
       " 'randomForest__max_features': 'auto',\n",
       " 'randomForest__max_leaf_nodes': None,\n",
       " 'randomForest__min_impurity_decrease': 0.0,\n",
       " 'randomForest__min_impurity_split': None,\n",
       " 'randomForest__min_samples_leaf': 1,\n",
       " 'randomForest__min_samples_split': 2,\n",
       " 'randomForest__min_weight_fraction_leaf': 0.0,\n",
       " 'randomForest__n_estimators': 'warn',\n",
       " 'randomForest__n_jobs': None,\n",
       " 'randomForest__oob_score': False,\n",
       " 'randomForest__random_state': None,\n",
       " 'randomForest__verbose': 0,\n",
       " 'randomForest__warm_start': False,\n",
       " 'standardScaler': StandardScaler(copy=True, with_mean=True, with_std=True),\n",
       " 'standardScaler__copy': True,\n",
       " 'standardScaler__with_mean': True,\n",
       " 'standardScaler__with_std': True,\n",
       " 'steps': [('standardScaler',\n",
       "   StandardScaler(copy=True, with_mean=True, with_std=True)),\n",
       "  ('randomForest',\n",
       "   RandomForestClassifier(bootstrap=True, class_weight=None, criterion='gini',\n",
       "               max_depth=None, max_features='auto', max_leaf_nodes=None,\n",
       "               min_impurity_decrease=0.0, min_impurity_split=None,\n",
       "               min_samples_leaf=1, min_samples_split=2,\n",
       "               min_weight_fraction_leaf=0.0, n_estimators='warn', n_jobs=None,\n",
       "               oob_score=False, random_state=None, verbose=0,\n",
       "               warm_start=False))]}"
      ]
     },
     "execution_count": 6,
     "metadata": {},
     "output_type": "execute_result"
    }
   ],
   "source": [
    "# define a simple pipeline\n",
    "pipeline = Pipeline([\n",
    "    ('standardScaler', StandardScaler()),\n",
    "    ('randomForest', RandomForestClassifier())\n",
    "])\n",
    "\n",
    "# inspect parameters\n",
    "pipeline.get_params()"
   ]
  },
  {
   "cell_type": "code",
   "execution_count": null,
   "metadata": {
    "ExecuteTime": {
     "end_time": "2019-04-28T01:30:30.086053Z",
     "start_time": "2019-04-28T01:30:27.708060Z"
    }
   },
   "outputs": [],
   "source": [
    "%%timeit -r1 -n1\n",
    "\n",
    "# fit the pipeline with all default parameters\n",
    "pipeline.fit(X_train, y_train.reset_index().setup_for_profitable_trade)"
   ]
  },
  {
   "cell_type": "code",
   "execution_count": null,
   "metadata": {
    "ExecuteTime": {
     "end_time": "2019-04-28T01:30:34.695976Z",
     "start_time": "2019-04-28T01:30:34.551994Z"
    }
   },
   "outputs": [],
   "source": [
    "# create prediction\n",
    "y_pred_firstRF = pipeline.predict(X_test)\n",
    "\n",
    "# save for backtesting in separate notebook\n",
    "pickle.dump(y_pred_firstRF, open('../data/model_predictions/y_pred_firstRF.pkl', 'wb'))"
   ]
  },
  {
   "cell_type": "markdown",
   "metadata": {},
   "source": [
    "We now have a first prediction on the dataset - let's look into the performance of the default settings. To understand the result, we will look at a few different metrics: the accuracy, precision, recall, f1-score, and the confusion matrix.\n",
    "\n",
    "It is important to note that our data is imbalanced (not the same number of days with trade signal as with no signal). Therefore, F scores are a better metric than ROC-AUC or accuracy. We can not easily fix the imbalance since we are looking at time series data and resampling might introduce lookahead bias.\n",
    "\n",
    "The ultimate test of the quality of the prediction is to backtest the results (ie simulate financial performance based on the predictions). This will be done in the next workbook. For now let's inspect some of the basic metrics."
   ]
  },
  {
   "cell_type": "code",
   "execution_count": null,
   "metadata": {
    "ExecuteTime": {
     "end_time": "2019-04-28T01:30:38.148212Z",
     "start_time": "2019-04-28T01:30:38.127212Z"
    }
   },
   "outputs": [],
   "source": [
    "print(classification_report(y_test, y_pred_firstRF))"
   ]
  },
  {
   "cell_type": "code",
   "execution_count": null,
   "metadata": {
    "ExecuteTime": {
     "end_time": "2019-04-28T01:30:40.653454Z",
     "start_time": "2019-04-28T01:30:40.633475Z"
    }
   },
   "outputs": [],
   "source": [
    "accuracy_score(y_test, y_pred_firstRF)"
   ]
  },
  {
   "cell_type": "code",
   "execution_count": null,
   "metadata": {
    "ExecuteTime": {
     "end_time": "2019-04-28T01:30:41.982229Z",
     "start_time": "2019-04-28T01:30:41.956729Z"
    },
    "scrolled": true
   },
   "outputs": [],
   "source": [
    "confusion_matrix(y_test, y_pred_firstRF, labels=[False, True])"
   ]
  },
  {
   "cell_type": "markdown",
   "metadata": {},
   "source": [
    "The confusion matrix indicates a large number of False Positives (bad because if we used those to trade, we would enter a trade that turns out not to be as profitable as desired) and False Negatives (bad because they mean missed opportunities for us to enter profitable trades).\n",
    "\n",
    "The good news is that our out-of-the-box model was able to predict some True Positives but the results in terms of financial performance are most likely very bad (we saved off the prediction and will look at this later)."
   ]
  },
  {
   "cell_type": "markdown",
   "metadata": {},
   "source": [
    "Even though the model seems to perform poorly, we might be able to learn something from it:\n",
    "\n",
    "Let's look into the relative feature importances to see if anything stands out"
   ]
  },
  {
   "cell_type": "code",
   "execution_count": 7,
   "metadata": {
    "ExecuteTime": {
     "end_time": "2019-04-28T05:39:13.645338Z",
     "start_time": "2019-04-28T05:39:13.637833Z"
    }
   },
   "outputs": [],
   "source": [
    "def print_feature_importances(estimator):\n",
    "\n",
    "    importances = estimator.feature_importances_\n",
    "    indices = np.argsort(importances)[::-1]\n",
    "\n",
    "    # Print the feature ranking\n",
    "    print(\"Feature ranking:\")\n",
    "\n",
    "    for f in range(X_train.shape[1]):\n",
    "        print(str(f + 1) + \" importance: \" + str(importances[indices[f]]) + \". feature name: \" + X_train.columns[indices[f]])"
   ]
  },
  {
   "cell_type": "code",
   "execution_count": null,
   "metadata": {
    "ExecuteTime": {
     "end_time": "2019-04-28T01:30:46.155140Z",
     "start_time": "2019-04-28T01:30:45.108178Z"
    }
   },
   "outputs": [],
   "source": [
    "      print_feature_importances(pipeline.named_steps['randomForest'])"
   ]
  },
  {
   "cell_type": "markdown",
   "metadata": {},
   "source": [
    "At the very bottom of the list are the RSI_above_80 and RSI_below_20 indicators. RSI is an indicator of extremes so having these features not play an important role means that the model did not notice many extremes and having predictive power.\n",
    "The top section contains many of the SMA50 to SMA200 ratios. The SMA 50 and 200 crossovers or distances are classic momentum indicators (SMA 50 over SMA 200 = uptrend, below = downtrend).\n",
    "Since the time period in the training data is that of a general market uptrend, it sounds intuitively reasonable that momentum indicators are important."
   ]
  },
  {
   "cell_type": "markdown",
   "metadata": {},
   "source": [
    "## 3) Improve RandomForest model with GridSearch"
   ]
  },
  {
   "cell_type": "markdown",
   "metadata": {},
   "source": [
    "Given the imbalance of our data and the desire to avoid False Positives, we will use a modified F1 score that places stronger emphasis on precision than on recall (they have the same weight in the F1 score). We will skew it towards precision by setting beta to 0.5 and towards recall bysetting beta to 2.0. The combinations were used in separate runs of GridSearchCV and results were saved."
   ]
  },
  {
   "cell_type": "code",
   "execution_count": 8,
   "metadata": {
    "ExecuteTime": {
     "end_time": "2019-04-28T05:39:16.340923Z",
     "start_time": "2019-04-28T05:39:16.333923Z"
    }
   },
   "outputs": [],
   "source": [
    "# place higher focus on precision (ie getting most TP and minimize FP) than on recall (ie minimize FN)\n",
    "# since placing a trade that was based on a FP will be costly and hurts more than missing a trade due to a FN\n",
    "fhalf_scorer = make_scorer(fbeta_score, beta=0.5) # low beta favors precision over recall\n",
    "ftwo_scorer = make_scorer(fbeta_score, beta=2) # high beta favors recall over precision"
   ]
  },
  {
   "cell_type": "code",
   "execution_count": 48,
   "metadata": {
    "ExecuteTime": {
     "end_time": "2019-04-28T18:02:37.957038Z",
     "start_time": "2019-04-28T18:02:37.930520Z"
    }
   },
   "outputs": [
    {
     "name": "stdout",
     "output_type": "stream",
     "text": [
      "10.151.151.124\n"
     ]
    }
   ],
   "source": [
    "import socket\n",
    "\n",
    "def get_ip():\n",
    "    '''\n",
    "    Get IP address of main interface\n",
    "    from https://stackoverflow.com/a/28950776\n",
    "    '''\n",
    "    s = socket.socket(socket.AF_INET, socket.SOCK_DGRAM)\n",
    "    try:\n",
    "        # doesn't even have to be reachable\n",
    "        s.connect(('10.255.255.255', 1))\n",
    "        IP = s.getsockname()[0]\n",
    "    except:\n",
    "        IP = '127.0.0.1'\n",
    "    finally:\n",
    "        s.close()\n",
    "    return IP\n",
    "\n",
    "print(get_ip())"
   ]
  },
  {
   "cell_type": "code",
   "execution_count": 76,
   "metadata": {
    "ExecuteTime": {
     "end_time": "2019-04-28T18:34:44.176037Z",
     "start_time": "2019-04-28T18:34:42.697713Z"
    }
   },
   "outputs": [
    {
     "ename": "OSError",
     "evalue": "[WinError 10048] Only one usage of each socket address (protocol/network address/port) is normally permitted",
     "output_type": "error",
     "traceback": [
      "\u001b[1;31m---------------------------------------------------------------------------\u001b[0m",
      "\u001b[1;31mOSError\u001b[0m                                   Traceback (most recent call last)",
      "\u001b[1;32m<ipython-input-76-9c5af13a1216>\u001b[0m in \u001b[0;36m<module>\u001b[1;34m()\u001b[0m\n\u001b[0;32m      3\u001b[0m                        \u001b[0mscheduler_port\u001b[0m\u001b[1;33m=\u001b[0m\u001b[1;36m8786\u001b[0m\u001b[1;33m,\u001b[0m\u001b[1;33m\u001b[0m\u001b[0m\n\u001b[0;32m      4\u001b[0m                        \u001b[0mdiagnostics_port\u001b[0m\u001b[1;33m=\u001b[0m\u001b[1;36m8787\u001b[0m\u001b[1;33m,\u001b[0m\u001b[1;33m\u001b[0m\u001b[0m\n\u001b[1;32m----> 5\u001b[1;33m                        asynchronous=False)\n\u001b[0m\u001b[0;32m      6\u001b[0m \u001b[0mprint\u001b[0m\u001b[1;33m(\u001b[0m\u001b[0mcluster\u001b[0m\u001b[1;33m.\u001b[0m\u001b[0mscheduler\u001b[0m\u001b[1;33m.\u001b[0m\u001b[0maddress\u001b[0m\u001b[1;33m)\u001b[0m\u001b[1;33m\u001b[0m\u001b[0m\n",
      "\u001b[1;32mC:\\Users\\florian.lindstaedt\\AppData\\Local\\Continuum\\anaconda3\\envs\\trader_env2\\lib\\site-packages\\distributed\\deploy\\local.py\u001b[0m in \u001b[0;36m__init__\u001b[1;34m(self, n_workers, threads_per_worker, processes, loop, start, ip, scheduler_port, silence_logs, diagnostics_port, services, worker_services, service_kwargs, asynchronous, security, **worker_kwargs)\u001b[0m\n\u001b[0;32m    139\u001b[0m             \u001b[0mself\u001b[0m\u001b[1;33m.\u001b[0m\u001b[0mworker_kwargs\u001b[0m\u001b[1;33m[\u001b[0m\u001b[1;34m'security'\u001b[0m\u001b[1;33m]\u001b[0m \u001b[1;33m=\u001b[0m \u001b[0msecurity\u001b[0m\u001b[1;33m\u001b[0m\u001b[0m\n\u001b[0;32m    140\u001b[0m \u001b[1;33m\u001b[0m\u001b[0m\n\u001b[1;32m--> 141\u001b[1;33m         \u001b[0mself\u001b[0m\u001b[1;33m.\u001b[0m\u001b[0mstart\u001b[0m\u001b[1;33m(\u001b[0m\u001b[0mip\u001b[0m\u001b[1;33m=\u001b[0m\u001b[0mip\u001b[0m\u001b[1;33m,\u001b[0m \u001b[0mn_workers\u001b[0m\u001b[1;33m=\u001b[0m\u001b[0mn_workers\u001b[0m\u001b[1;33m)\u001b[0m\u001b[1;33m\u001b[0m\u001b[0m\n\u001b[0m\u001b[0;32m    142\u001b[0m \u001b[1;33m\u001b[0m\u001b[0m\n\u001b[0;32m    143\u001b[0m         \u001b[0mclusters_to_close\u001b[0m\u001b[1;33m.\u001b[0m\u001b[0madd\u001b[0m\u001b[1;33m(\u001b[0m\u001b[0mself\u001b[0m\u001b[1;33m)\u001b[0m\u001b[1;33m\u001b[0m\u001b[0m\n",
      "\u001b[1;32mC:\\Users\\florian.lindstaedt\\AppData\\Local\\Continuum\\anaconda3\\envs\\trader_env2\\lib\\site-packages\\distributed\\deploy\\local.py\u001b[0m in \u001b[0;36mstart\u001b[1;34m(self, **kwargs)\u001b[0m\n\u001b[0;32m    169\u001b[0m             \u001b[0mself\u001b[0m\u001b[1;33m.\u001b[0m\u001b[0m_started\u001b[0m \u001b[1;33m=\u001b[0m \u001b[0mself\u001b[0m\u001b[1;33m.\u001b[0m\u001b[0m_start\u001b[0m\u001b[1;33m(\u001b[0m\u001b[1;33m**\u001b[0m\u001b[0mkwargs\u001b[0m\u001b[1;33m)\u001b[0m\u001b[1;33m\u001b[0m\u001b[0m\n\u001b[0;32m    170\u001b[0m         \u001b[1;32melse\u001b[0m\u001b[1;33m:\u001b[0m\u001b[1;33m\u001b[0m\u001b[0m\n\u001b[1;32m--> 171\u001b[1;33m             \u001b[0mself\u001b[0m\u001b[1;33m.\u001b[0m\u001b[0msync\u001b[0m\u001b[1;33m(\u001b[0m\u001b[0mself\u001b[0m\u001b[1;33m.\u001b[0m\u001b[0m_start\u001b[0m\u001b[1;33m,\u001b[0m \u001b[1;33m**\u001b[0m\u001b[0mkwargs\u001b[0m\u001b[1;33m)\u001b[0m\u001b[1;33m\u001b[0m\u001b[0m\n\u001b[0m\u001b[0;32m    172\u001b[0m \u001b[1;33m\u001b[0m\u001b[0m\n\u001b[0;32m    173\u001b[0m     \u001b[1;33m@\u001b[0m\u001b[0mgen\u001b[0m\u001b[1;33m.\u001b[0m\u001b[0mcoroutine\u001b[0m\u001b[1;33m\u001b[0m\u001b[0m\n",
      "\u001b[1;32mC:\\Users\\florian.lindstaedt\\AppData\\Local\\Continuum\\anaconda3\\envs\\trader_env2\\lib\\site-packages\\distributed\\deploy\\local.py\u001b[0m in \u001b[0;36msync\u001b[1;34m(self, func, *args, **kwargs)\u001b[0m\n\u001b[0;32m    162\u001b[0m             \u001b[1;32mreturn\u001b[0m \u001b[0mfuture\u001b[0m\u001b[1;33m\u001b[0m\u001b[0m\n\u001b[0;32m    163\u001b[0m         \u001b[1;32melse\u001b[0m\u001b[1;33m:\u001b[0m\u001b[1;33m\u001b[0m\u001b[0m\n\u001b[1;32m--> 164\u001b[1;33m             \u001b[1;32mreturn\u001b[0m \u001b[0msync\u001b[0m\u001b[1;33m(\u001b[0m\u001b[0mself\u001b[0m\u001b[1;33m.\u001b[0m\u001b[0mloop\u001b[0m\u001b[1;33m,\u001b[0m \u001b[0mfunc\u001b[0m\u001b[1;33m,\u001b[0m \u001b[1;33m*\u001b[0m\u001b[0margs\u001b[0m\u001b[1;33m,\u001b[0m \u001b[1;33m**\u001b[0m\u001b[0mkwargs\u001b[0m\u001b[1;33m)\u001b[0m\u001b[1;33m\u001b[0m\u001b[0m\n\u001b[0m\u001b[0;32m    165\u001b[0m \u001b[1;33m\u001b[0m\u001b[0m\n\u001b[0;32m    166\u001b[0m     \u001b[1;32mdef\u001b[0m \u001b[0mstart\u001b[0m\u001b[1;33m(\u001b[0m\u001b[0mself\u001b[0m\u001b[1;33m,\u001b[0m \u001b[1;33m**\u001b[0m\u001b[0mkwargs\u001b[0m\u001b[1;33m)\u001b[0m\u001b[1;33m:\u001b[0m\u001b[1;33m\u001b[0m\u001b[0m\n",
      "\u001b[1;32mC:\\Users\\florian.lindstaedt\\AppData\\Local\\Continuum\\anaconda3\\envs\\trader_env2\\lib\\site-packages\\distributed\\utils.py\u001b[0m in \u001b[0;36msync\u001b[1;34m(loop, func, *args, **kwargs)\u001b[0m\n\u001b[0;32m    275\u001b[0m             \u001b[0me\u001b[0m\u001b[1;33m.\u001b[0m\u001b[0mwait\u001b[0m\u001b[1;33m(\u001b[0m\u001b[1;36m10\u001b[0m\u001b[1;33m)\u001b[0m\u001b[1;33m\u001b[0m\u001b[0m\n\u001b[0;32m    276\u001b[0m     \u001b[1;32mif\u001b[0m \u001b[0merror\u001b[0m\u001b[1;33m[\u001b[0m\u001b[1;36m0\u001b[0m\u001b[1;33m]\u001b[0m\u001b[1;33m:\u001b[0m\u001b[1;33m\u001b[0m\u001b[0m\n\u001b[1;32m--> 277\u001b[1;33m         \u001b[0msix\u001b[0m\u001b[1;33m.\u001b[0m\u001b[0mreraise\u001b[0m\u001b[1;33m(\u001b[0m\u001b[1;33m*\u001b[0m\u001b[0merror\u001b[0m\u001b[1;33m[\u001b[0m\u001b[1;36m0\u001b[0m\u001b[1;33m]\u001b[0m\u001b[1;33m)\u001b[0m\u001b[1;33m\u001b[0m\u001b[0m\n\u001b[0m\u001b[0;32m    278\u001b[0m     \u001b[1;32melse\u001b[0m\u001b[1;33m:\u001b[0m\u001b[1;33m\u001b[0m\u001b[0m\n\u001b[0;32m    279\u001b[0m         \u001b[1;32mreturn\u001b[0m \u001b[0mresult\u001b[0m\u001b[1;33m[\u001b[0m\u001b[1;36m0\u001b[0m\u001b[1;33m]\u001b[0m\u001b[1;33m\u001b[0m\u001b[0m\n",
      "\u001b[1;32mC:\\Users\\florian.lindstaedt\\AppData\\Local\\Continuum\\anaconda3\\envs\\trader_env2\\lib\\site-packages\\six.py\u001b[0m in \u001b[0;36mreraise\u001b[1;34m(tp, value, tb)\u001b[0m\n\u001b[0;32m    691\u001b[0m             \u001b[1;32mif\u001b[0m \u001b[0mvalue\u001b[0m\u001b[1;33m.\u001b[0m\u001b[0m__traceback__\u001b[0m \u001b[1;32mis\u001b[0m \u001b[1;32mnot\u001b[0m \u001b[0mtb\u001b[0m\u001b[1;33m:\u001b[0m\u001b[1;33m\u001b[0m\u001b[0m\n\u001b[0;32m    692\u001b[0m                 \u001b[1;32mraise\u001b[0m \u001b[0mvalue\u001b[0m\u001b[1;33m.\u001b[0m\u001b[0mwith_traceback\u001b[0m\u001b[1;33m(\u001b[0m\u001b[0mtb\u001b[0m\u001b[1;33m)\u001b[0m\u001b[1;33m\u001b[0m\u001b[0m\n\u001b[1;32m--> 693\u001b[1;33m             \u001b[1;32mraise\u001b[0m \u001b[0mvalue\u001b[0m\u001b[1;33m\u001b[0m\u001b[0m\n\u001b[0m\u001b[0;32m    694\u001b[0m         \u001b[1;32mfinally\u001b[0m\u001b[1;33m:\u001b[0m\u001b[1;33m\u001b[0m\u001b[0m\n\u001b[0;32m    695\u001b[0m             \u001b[0mvalue\u001b[0m \u001b[1;33m=\u001b[0m \u001b[1;32mNone\u001b[0m\u001b[1;33m\u001b[0m\u001b[0m\n",
      "\u001b[1;32mC:\\Users\\florian.lindstaedt\\AppData\\Local\\Continuum\\anaconda3\\envs\\trader_env2\\lib\\site-packages\\distributed\\utils.py\u001b[0m in \u001b[0;36mf\u001b[1;34m()\u001b[0m\n\u001b[0;32m    260\u001b[0m             \u001b[1;32mif\u001b[0m \u001b[0mtimeout\u001b[0m \u001b[1;32mis\u001b[0m \u001b[1;32mnot\u001b[0m \u001b[1;32mNone\u001b[0m\u001b[1;33m:\u001b[0m\u001b[1;33m\u001b[0m\u001b[0m\n\u001b[0;32m    261\u001b[0m                 \u001b[0mfuture\u001b[0m \u001b[1;33m=\u001b[0m \u001b[0mgen\u001b[0m\u001b[1;33m.\u001b[0m\u001b[0mwith_timeout\u001b[0m\u001b[1;33m(\u001b[0m\u001b[0mtimedelta\u001b[0m\u001b[1;33m(\u001b[0m\u001b[0mseconds\u001b[0m\u001b[1;33m=\u001b[0m\u001b[0mtimeout\u001b[0m\u001b[1;33m)\u001b[0m\u001b[1;33m,\u001b[0m \u001b[0mfuture\u001b[0m\u001b[1;33m)\u001b[0m\u001b[1;33m\u001b[0m\u001b[0m\n\u001b[1;32m--> 262\u001b[1;33m             \u001b[0mresult\u001b[0m\u001b[1;33m[\u001b[0m\u001b[1;36m0\u001b[0m\u001b[1;33m]\u001b[0m \u001b[1;33m=\u001b[0m \u001b[1;32myield\u001b[0m \u001b[0mfuture\u001b[0m\u001b[1;33m\u001b[0m\u001b[0m\n\u001b[0m\u001b[0;32m    263\u001b[0m         \u001b[1;32mexcept\u001b[0m \u001b[0mException\u001b[0m \u001b[1;32mas\u001b[0m \u001b[0mexc\u001b[0m\u001b[1;33m:\u001b[0m\u001b[1;33m\u001b[0m\u001b[0m\n\u001b[0;32m    264\u001b[0m             \u001b[0merror\u001b[0m\u001b[1;33m[\u001b[0m\u001b[1;36m0\u001b[0m\u001b[1;33m]\u001b[0m \u001b[1;33m=\u001b[0m \u001b[0msys\u001b[0m\u001b[1;33m.\u001b[0m\u001b[0mexc_info\u001b[0m\u001b[1;33m(\u001b[0m\u001b[1;33m)\u001b[0m\u001b[1;33m\u001b[0m\u001b[0m\n",
      "\u001b[1;32mC:\\Users\\florian.lindstaedt\\AppData\\Local\\Continuum\\anaconda3\\envs\\trader_env2\\lib\\site-packages\\tornado\\gen.py\u001b[0m in \u001b[0;36mrun\u001b[1;34m(self)\u001b[0m\n\u001b[0;32m   1131\u001b[0m \u001b[1;33m\u001b[0m\u001b[0m\n\u001b[0;32m   1132\u001b[0m                     \u001b[1;32mtry\u001b[0m\u001b[1;33m:\u001b[0m\u001b[1;33m\u001b[0m\u001b[0m\n\u001b[1;32m-> 1133\u001b[1;33m                         \u001b[0mvalue\u001b[0m \u001b[1;33m=\u001b[0m \u001b[0mfuture\u001b[0m\u001b[1;33m.\u001b[0m\u001b[0mresult\u001b[0m\u001b[1;33m(\u001b[0m\u001b[1;33m)\u001b[0m\u001b[1;33m\u001b[0m\u001b[0m\n\u001b[0m\u001b[0;32m   1134\u001b[0m                     \u001b[1;32mexcept\u001b[0m \u001b[0mException\u001b[0m\u001b[1;33m:\u001b[0m\u001b[1;33m\u001b[0m\u001b[0m\n\u001b[0;32m   1135\u001b[0m                         \u001b[0mself\u001b[0m\u001b[1;33m.\u001b[0m\u001b[0mhad_exception\u001b[0m \u001b[1;33m=\u001b[0m \u001b[1;32mTrue\u001b[0m\u001b[1;33m\u001b[0m\u001b[0m\n",
      "\u001b[1;32mC:\\Users\\florian.lindstaedt\\AppData\\Local\\Continuum\\anaconda3\\envs\\trader_env2\\lib\\asyncio\\futures.py\u001b[0m in \u001b[0;36mresult\u001b[1;34m(self)\u001b[0m\n\u001b[0;32m    292\u001b[0m             \u001b[0mself\u001b[0m\u001b[1;33m.\u001b[0m\u001b[0m_tb_logger\u001b[0m \u001b[1;33m=\u001b[0m \u001b[1;32mNone\u001b[0m\u001b[1;33m\u001b[0m\u001b[0m\n\u001b[0;32m    293\u001b[0m         \u001b[1;32mif\u001b[0m \u001b[0mself\u001b[0m\u001b[1;33m.\u001b[0m\u001b[0m_exception\u001b[0m \u001b[1;32mis\u001b[0m \u001b[1;32mnot\u001b[0m \u001b[1;32mNone\u001b[0m\u001b[1;33m:\u001b[0m\u001b[1;33m\u001b[0m\u001b[0m\n\u001b[1;32m--> 294\u001b[1;33m             \u001b[1;32mraise\u001b[0m \u001b[0mself\u001b[0m\u001b[1;33m.\u001b[0m\u001b[0m_exception\u001b[0m\u001b[1;33m\u001b[0m\u001b[0m\n\u001b[0m\u001b[0;32m    295\u001b[0m         \u001b[1;32mreturn\u001b[0m \u001b[0mself\u001b[0m\u001b[1;33m.\u001b[0m\u001b[0m_result\u001b[0m\u001b[1;33m\u001b[0m\u001b[0m\n\u001b[0;32m    296\u001b[0m \u001b[1;33m\u001b[0m\u001b[0m\n",
      "\u001b[1;32mC:\\Users\\florian.lindstaedt\\AppData\\Local\\Continuum\\anaconda3\\envs\\trader_env2\\lib\\site-packages\\tornado\\gen.py\u001b[0m in \u001b[0;36mwrapper\u001b[1;34m(*args, **kwargs)\u001b[0m\n\u001b[0;32m    324\u001b[0m                 \u001b[1;32mtry\u001b[0m\u001b[1;33m:\u001b[0m\u001b[1;33m\u001b[0m\u001b[0m\n\u001b[0;32m    325\u001b[0m                     \u001b[0morig_stack_contexts\u001b[0m \u001b[1;33m=\u001b[0m \u001b[0mstack_context\u001b[0m\u001b[1;33m.\u001b[0m\u001b[0m_state\u001b[0m\u001b[1;33m.\u001b[0m\u001b[0mcontexts\u001b[0m\u001b[1;33m\u001b[0m\u001b[0m\n\u001b[1;32m--> 326\u001b[1;33m                     \u001b[0myielded\u001b[0m \u001b[1;33m=\u001b[0m \u001b[0mnext\u001b[0m\u001b[1;33m(\u001b[0m\u001b[0mresult\u001b[0m\u001b[1;33m)\u001b[0m\u001b[1;33m\u001b[0m\u001b[0m\n\u001b[0m\u001b[0;32m    327\u001b[0m                     \u001b[1;32mif\u001b[0m \u001b[0mstack_context\u001b[0m\u001b[1;33m.\u001b[0m\u001b[0m_state\u001b[0m\u001b[1;33m.\u001b[0m\u001b[0mcontexts\u001b[0m \u001b[1;32mis\u001b[0m \u001b[1;32mnot\u001b[0m \u001b[0morig_stack_contexts\u001b[0m\u001b[1;33m:\u001b[0m\u001b[1;33m\u001b[0m\u001b[0m\n\u001b[0;32m    328\u001b[0m                         \u001b[0myielded\u001b[0m \u001b[1;33m=\u001b[0m \u001b[0m_create_future\u001b[0m\u001b[1;33m(\u001b[0m\u001b[1;33m)\u001b[0m\u001b[1;33m\u001b[0m\u001b[0m\n",
      "\u001b[1;32mC:\\Users\\florian.lindstaedt\\AppData\\Local\\Continuum\\anaconda3\\envs\\trader_env2\\lib\\site-packages\\distributed\\deploy\\local.py\u001b[0m in \u001b[0;36m_start\u001b[1;34m(self, ip, n_workers)\u001b[0m\n\u001b[0;32m    187\u001b[0m                 \u001b[0mip\u001b[0m \u001b[1;33m=\u001b[0m \u001b[1;34m'127.0.0.1'\u001b[0m\u001b[1;33m\u001b[0m\u001b[0m\n\u001b[0;32m    188\u001b[0m             \u001b[0mscheduler_address\u001b[0m \u001b[1;33m=\u001b[0m \u001b[1;33m(\u001b[0m\u001b[0mip\u001b[0m\u001b[1;33m,\u001b[0m \u001b[0mself\u001b[0m\u001b[1;33m.\u001b[0m\u001b[0mscheduler_port\u001b[0m\u001b[1;33m)\u001b[0m\u001b[1;33m\u001b[0m\u001b[0m\n\u001b[1;32m--> 189\u001b[1;33m         \u001b[0mself\u001b[0m\u001b[1;33m.\u001b[0m\u001b[0mscheduler\u001b[0m\u001b[1;33m.\u001b[0m\u001b[0mstart\u001b[0m\u001b[1;33m(\u001b[0m\u001b[0mscheduler_address\u001b[0m\u001b[1;33m)\u001b[0m\u001b[1;33m\u001b[0m\u001b[0m\n\u001b[0m\u001b[0;32m    190\u001b[0m \u001b[1;33m\u001b[0m\u001b[0m\n\u001b[0;32m    191\u001b[0m         \u001b[1;32myield\u001b[0m \u001b[1;33m[\u001b[0m\u001b[0mself\u001b[0m\u001b[1;33m.\u001b[0m\u001b[0m_start_worker\u001b[0m\u001b[1;33m(\u001b[0m\u001b[1;33m**\u001b[0m\u001b[0mself\u001b[0m\u001b[1;33m.\u001b[0m\u001b[0mworker_kwargs\u001b[0m\u001b[1;33m)\u001b[0m \u001b[1;32mfor\u001b[0m \u001b[0mi\u001b[0m \u001b[1;32min\u001b[0m \u001b[0mrange\u001b[0m\u001b[1;33m(\u001b[0m\u001b[0mn_workers\u001b[0m\u001b[1;33m)\u001b[0m\u001b[1;33m]\u001b[0m\u001b[1;33m\u001b[0m\u001b[0m\n",
      "\u001b[1;32mC:\\Users\\florian.lindstaedt\\AppData\\Local\\Continuum\\anaconda3\\envs\\trader_env2\\lib\\site-packages\\distributed\\scheduler.py\u001b[0m in \u001b[0;36mstart\u001b[1;34m(self, addr_or_port, start_queues)\u001b[0m\n\u001b[0;32m   1086\u001b[0m                 \u001b[0mlisten_ip\u001b[0m \u001b[1;33m=\u001b[0m \u001b[1;34m''\u001b[0m\u001b[1;33m\u001b[0m\u001b[0m\n\u001b[0;32m   1087\u001b[0m             \u001b[1;32melse\u001b[0m\u001b[1;33m:\u001b[0m\u001b[1;33m\u001b[0m\u001b[0m\n\u001b[1;32m-> 1088\u001b[1;33m                 \u001b[0mself\u001b[0m\u001b[1;33m.\u001b[0m\u001b[0mlisten\u001b[0m\u001b[1;33m(\u001b[0m\u001b[0maddr_or_port\u001b[0m\u001b[1;33m,\u001b[0m \u001b[0mlisten_args\u001b[0m\u001b[1;33m=\u001b[0m\u001b[0mself\u001b[0m\u001b[1;33m.\u001b[0m\u001b[0mlisten_args\u001b[0m\u001b[1;33m)\u001b[0m\u001b[1;33m\u001b[0m\u001b[0m\n\u001b[0m\u001b[0;32m   1089\u001b[0m                 \u001b[0mself\u001b[0m\u001b[1;33m.\u001b[0m\u001b[0mip\u001b[0m \u001b[1;33m=\u001b[0m \u001b[0mget_address_host\u001b[0m\u001b[1;33m(\u001b[0m\u001b[0mself\u001b[0m\u001b[1;33m.\u001b[0m\u001b[0mlisten_address\u001b[0m\u001b[1;33m)\u001b[0m\u001b[1;33m\u001b[0m\u001b[0m\n\u001b[0;32m   1090\u001b[0m                 \u001b[0mlisten_ip\u001b[0m \u001b[1;33m=\u001b[0m \u001b[0mself\u001b[0m\u001b[1;33m.\u001b[0m\u001b[0mip\u001b[0m\u001b[1;33m\u001b[0m\u001b[0m\n",
      "\u001b[1;32mC:\\Users\\florian.lindstaedt\\AppData\\Local\\Continuum\\anaconda3\\envs\\trader_env2\\lib\\site-packages\\distributed\\core.py\u001b[0m in \u001b[0;36mlisten\u001b[1;34m(self, port_or_addr, listen_args)\u001b[0m\n\u001b[0;32m    270\u001b[0m                                \u001b[0mdeserialize\u001b[0m\u001b[1;33m=\u001b[0m\u001b[0mself\u001b[0m\u001b[1;33m.\u001b[0m\u001b[0mdeserialize\u001b[0m\u001b[1;33m,\u001b[0m\u001b[1;33m\u001b[0m\u001b[0m\n\u001b[0;32m    271\u001b[0m                                connection_args=listen_args)\n\u001b[1;32m--> 272\u001b[1;33m         \u001b[0mself\u001b[0m\u001b[1;33m.\u001b[0m\u001b[0mlistener\u001b[0m\u001b[1;33m.\u001b[0m\u001b[0mstart\u001b[0m\u001b[1;33m(\u001b[0m\u001b[1;33m)\u001b[0m\u001b[1;33m\u001b[0m\u001b[0m\n\u001b[0m\u001b[0;32m    273\u001b[0m \u001b[1;33m\u001b[0m\u001b[0m\n\u001b[0;32m    274\u001b[0m     \u001b[1;33m@\u001b[0m\u001b[0mgen\u001b[0m\u001b[1;33m.\u001b[0m\u001b[0mcoroutine\u001b[0m\u001b[1;33m\u001b[0m\u001b[0m\n",
      "\u001b[1;32mC:\\Users\\florian.lindstaedt\\AppData\\Local\\Continuum\\anaconda3\\envs\\trader_env2\\lib\\site-packages\\distributed\\comm\\tcp.py\u001b[0m in \u001b[0;36mstart\u001b[1;34m(self)\u001b[0m\n\u001b[0;32m    383\u001b[0m                 \u001b[1;31m# is large enough not to lose any.\u001b[0m\u001b[1;33m\u001b[0m\u001b[1;33m\u001b[0m\u001b[0m\n\u001b[0;32m    384\u001b[0m                 sockets = netutil.bind_sockets(self.port, address=self.ip,\n\u001b[1;32m--> 385\u001b[1;33m                                                backlog=backlog)\n\u001b[0m\u001b[0;32m    386\u001b[0m             \u001b[1;32mexcept\u001b[0m \u001b[0mEnvironmentError\u001b[0m \u001b[1;32mas\u001b[0m \u001b[0me\u001b[0m\u001b[1;33m:\u001b[0m\u001b[1;33m\u001b[0m\u001b[0m\n\u001b[0;32m    387\u001b[0m                 \u001b[1;31m# EADDRINUSE can happen sporadically when trying to bind\u001b[0m\u001b[1;33m\u001b[0m\u001b[1;33m\u001b[0m\u001b[0m\n",
      "\u001b[1;32mC:\\Users\\florian.lindstaedt\\AppData\\Local\\Continuum\\anaconda3\\envs\\trader_env2\\lib\\site-packages\\tornado\\netutil.py\u001b[0m in \u001b[0;36mbind_sockets\u001b[1;34m(port, address, family, backlog, flags, reuse_port)\u001b[0m\n\u001b[0;32m    166\u001b[0m \u001b[1;33m\u001b[0m\u001b[0m\n\u001b[0;32m    167\u001b[0m         \u001b[0msock\u001b[0m\u001b[1;33m.\u001b[0m\u001b[0msetblocking\u001b[0m\u001b[1;33m(\u001b[0m\u001b[1;36m0\u001b[0m\u001b[1;33m)\u001b[0m\u001b[1;33m\u001b[0m\u001b[0m\n\u001b[1;32m--> 168\u001b[1;33m         \u001b[0msock\u001b[0m\u001b[1;33m.\u001b[0m\u001b[0mbind\u001b[0m\u001b[1;33m(\u001b[0m\u001b[0msockaddr\u001b[0m\u001b[1;33m)\u001b[0m\u001b[1;33m\u001b[0m\u001b[0m\n\u001b[0m\u001b[0;32m    169\u001b[0m         \u001b[0mbound_port\u001b[0m \u001b[1;33m=\u001b[0m \u001b[0msock\u001b[0m\u001b[1;33m.\u001b[0m\u001b[0mgetsockname\u001b[0m\u001b[1;33m(\u001b[0m\u001b[1;33m)\u001b[0m\u001b[1;33m[\u001b[0m\u001b[1;36m1\u001b[0m\u001b[1;33m]\u001b[0m\u001b[1;33m\u001b[0m\u001b[0m\n\u001b[0;32m    170\u001b[0m         \u001b[0msock\u001b[0m\u001b[1;33m.\u001b[0m\u001b[0mlisten\u001b[0m\u001b[1;33m(\u001b[0m\u001b[0mbacklog\u001b[0m\u001b[1;33m)\u001b[0m\u001b[1;33m\u001b[0m\u001b[0m\n",
      "\u001b[1;31mOSError\u001b[0m: [WinError 10048] Only one usage of each socket address (protocol/network address/port) is normally permitted"
     ]
    }
   ],
   "source": [
    "# establish cluster with scheduler and local workers\n",
    "\n",
    "from dask.distributed import Client, LocalCluster, progress, Worker, Scheduler\n",
    "cluster = LocalCluster(ip=get_ip(), # uses main IP address of machine instead of LocalHost - needed if we want external workers\n",
    "                       scheduler_port=8786,\n",
    "                       diagnostics_port=8787,\n",
    "                       asynchronous=False)\n",
    "print(cluster.scheduler.address)"
   ]
  },
  {
   "cell_type": "code",
   "execution_count": 74,
   "metadata": {
    "ExecuteTime": {
     "end_time": "2019-04-28T18:32:33.360454Z",
     "start_time": "2019-04-28T18:32:33.074947Z"
    }
   },
   "outputs": [
    {
     "data": {
      "text/plain": [
       "'tcp://10.151.151.124:8786'"
      ]
     },
     "execution_count": 74,
     "metadata": {},
     "output_type": "execute_result"
    }
   ],
   "source": [
    "cluster.scheduler.address"
   ]
  },
  {
   "cell_type": "code",
   "execution_count": 80,
   "metadata": {
    "ExecuteTime": {
     "end_time": "2019-04-28T18:36:50.305695Z",
     "start_time": "2019-04-28T18:36:39.593402Z"
    }
   },
   "outputs": [
    {
     "data": {
      "text/html": [
       "<table style=\"border: 2px solid white;\">\n",
       "<tr>\n",
       "<td style=\"vertical-align: top; border: 0px solid white\">\n",
       "<h3>Client</h3>\n",
       "<ul>\n",
       "  <li><b>Scheduler: </b>tcp://10.151.151.124:8786\n",
       "  <li><b>Dashboard: </b><a href='http://10.151.151.124:8787/status' target='_blank'>http://10.151.151.124:8787/status</a>\n",
       "</ul>\n",
       "</td>\n",
       "<td style=\"vertical-align: top; border: 0px solid white\">\n",
       "<h3>Cluster</h3>\n",
       "<ul>\n",
       "  <li><b>Workers: </b>18</li>\n",
       "  <li><b>Cores: </b>18</li>\n",
       "  <li><b>Memory: </b>51.35 GB</li>\n",
       "</ul>\n",
       "</td>\n",
       "</tr>\n",
       "</table>"
      ],
      "text/plain": [
       "<Client: scheduler='tcp://10.151.151.124:8786' processes=18 cores=18>"
      ]
     },
     "execution_count": 80,
     "metadata": {},
     "output_type": "execute_result"
    }
   ],
   "source": [
    "client = Client(cluster.scheduler.address)\n",
    "client"
   ]
  },
  {
   "cell_type": "code",
   "execution_count": 69,
   "metadata": {
    "ExecuteTime": {
     "end_time": "2019-04-28T18:23:35.295167Z",
     "start_time": "2019-04-28T18:23:33.951131Z"
    }
   },
   "outputs": [
    {
     "data": {
      "text/plain": [
       "<Nanny: tcp://10.151.151.124:57369, threads: 1>"
      ]
     },
     "execution_count": 69,
     "metadata": {},
     "output_type": "execute_result"
    }
   ],
   "source": [
    "extraworker = cluster.start_worker(ncores=1)\n",
    "extraworker"
   ]
  },
  {
   "cell_type": "code",
   "execution_count": 71,
   "metadata": {
    "ExecuteTime": {
     "end_time": "2019-04-28T18:24:05.888618Z",
     "start_time": "2019-04-28T18:24:05.609638Z"
    }
   },
   "outputs": [
    {
     "data": {
      "text/html": [
       "<table style=\"border: 2px solid white;\">\n",
       "<tr>\n",
       "<td style=\"vertical-align: top; border: 0px solid white\">\n",
       "<h3>Client</h3>\n",
       "<ul>\n",
       "  <li><b>Scheduler: </b>tcp://10.151.151.124:8786\n",
       "  <li><b>Dashboard: </b><a href='http://10.151.151.124:8787/status' target='_blank'>http://10.151.151.124:8787/status</a>\n",
       "</ul>\n",
       "</td>\n",
       "<td style=\"vertical-align: top; border: 0px solid white\">\n",
       "<h3>Cluster</h3>\n",
       "<ul>\n",
       "  <li><b>Workers: </b>0</li>\n",
       "  <li><b>Cores: </b>0</li>\n",
       "  <li><b>Memory: </b>0 B</li>\n",
       "</ul>\n",
       "</td>\n",
       "</tr>\n",
       "</table>"
      ],
      "text/plain": [
       "<Client: scheduler='tcp://10.151.151.124:8786' processes=0 cores=0>"
      ]
     },
     "execution_count": 71,
     "metadata": {},
     "output_type": "execute_result"
    }
   ],
   "source": [
    "cluster.stop_worker(extraworker)\n",
    "client"
   ]
  },
  {
   "cell_type": "markdown",
   "metadata": {},
   "source": [
    "### Docker:\n",
    "run a worker in Docker:\n",
    "\n",
    "docker run -dit --rm --network host -P --name workerToHost daskdev/dask dask-worker host.docker.internal:8786\n",
    "\n",
    "(need to give correct port for scheduler).\n",
    "\n",
    "connects succesfully, but doesn't seem to communicate properly due to windows networking limitations in docker ( see https://docs.docker.com/docker-for-windows/networking/)\n",
    "\n",
    "### Jupyter on foreign machine:\n",
    "in Jupyter notebook that imports same neede libraries, execute this as many times as workers are needed:\n",
    "\n",
    "w = Worker('tcp://10.151.151.124:8786', ncores=1)\n",
    "w.start()"
   ]
  },
  {
   "cell_type": "code",
   "execution_count": 19,
   "metadata": {
    "ExecuteTime": {
     "end_time": "2019-04-28T06:11:33.936854Z",
     "start_time": "2019-04-28T06:11:33.609871Z"
    }
   },
   "outputs": [
    {
     "ename": "ValueError",
     "evalue": "Mismatched versions found\n\ndask_ml\n+---------------------------+---------+\n|                           | version |\n+---------------------------+---------+\n| client                    | 0.11.0  |\n| tcp://10.151.151.59:57847 | 0.9.0   |\n| tcp://10.151.151.59:57850 | 0.9.0   |\n| tcp://10.151.151.59:57857 | 0.9.0   |\n| tcp://10.151.151.59:57862 | 0.9.0   |\n| tcp://10.151.151.59:57865 | 0.9.0   |\n| tcp://10.151.151.59:57874 | 0.9.0   |\n| tcp://10.151.151.59:58107 | 0.9.0   |\n| tcp://10.151.151.59:58111 | 0.9.0   |\n| tcp://10.151.151.59:58114 | 0.9.0   |\n| tcp://10.151.151.59:58117 | 0.9.0   |\n| tcp://10.151.151.59:58119 | 0.9.0   |\n| tcp://10.151.151.59:58122 | 0.9.0   |\n| tcp://10.151.151.59:58126 | 0.9.0   |\n| tcp://10.151.151.59:58128 | 0.9.0   |\n| tcp://10.151.151.59:58131 | 0.9.0   |\n+---------------------------+---------+",
     "output_type": "error",
     "traceback": [
      "\u001b[1;31m---------------------------------------------------------------------------\u001b[0m",
      "\u001b[1;31mValueError\u001b[0m                                Traceback (most recent call last)",
      "\u001b[1;32m<ipython-input-19-13767d2792b6>\u001b[0m in \u001b[0;36m<module>\u001b[1;34m()\u001b[0m\n\u001b[1;32m----> 1\u001b[1;33m \u001b[0mclient\u001b[0m\u001b[1;33m.\u001b[0m\u001b[0mget_versions\u001b[0m\u001b[1;33m(\u001b[0m\u001b[0mcheck\u001b[0m\u001b[1;33m=\u001b[0m\u001b[1;32mTrue\u001b[0m\u001b[1;33m)\u001b[0m\u001b[1;33m\u001b[0m\u001b[0m\n\u001b[0m",
      "\u001b[1;32mC:\\Users\\florian.lindstaedt\\AppData\\Local\\Continuum\\anaconda3\\envs\\trader_env2\\lib\\site-packages\\distributed\\client.py\u001b[0m in \u001b[0;36mget_versions\u001b[1;34m(self, check, packages)\u001b[0m\n\u001b[0;32m   3112\u001b[0m                 raise ValueError(\"Mismatched versions found\\n\"\n\u001b[0;32m   3113\u001b[0m                                  \u001b[1;34m\"\\n\"\u001b[0m\u001b[1;33m\u001b[0m\u001b[0m\n\u001b[1;32m-> 3114\u001b[1;33m                                  \"%s\" % ('\\n\\n'.join(errs)))\n\u001b[0m\u001b[0;32m   3115\u001b[0m \u001b[1;33m\u001b[0m\u001b[0m\n\u001b[0;32m   3116\u001b[0m         \u001b[1;32mreturn\u001b[0m \u001b[0mresult\u001b[0m\u001b[1;33m\u001b[0m\u001b[0m\n",
      "\u001b[1;31mValueError\u001b[0m: Mismatched versions found\n\ndask_ml\n+---------------------------+---------+\n|                           | version |\n+---------------------------+---------+\n| client                    | 0.11.0  |\n| tcp://10.151.151.59:57847 | 0.9.0   |\n| tcp://10.151.151.59:57850 | 0.9.0   |\n| tcp://10.151.151.59:57857 | 0.9.0   |\n| tcp://10.151.151.59:57862 | 0.9.0   |\n| tcp://10.151.151.59:57865 | 0.9.0   |\n| tcp://10.151.151.59:57874 | 0.9.0   |\n| tcp://10.151.151.59:58107 | 0.9.0   |\n| tcp://10.151.151.59:58111 | 0.9.0   |\n| tcp://10.151.151.59:58114 | 0.9.0   |\n| tcp://10.151.151.59:58117 | 0.9.0   |\n| tcp://10.151.151.59:58119 | 0.9.0   |\n| tcp://10.151.151.59:58122 | 0.9.0   |\n| tcp://10.151.151.59:58126 | 0.9.0   |\n| tcp://10.151.151.59:58128 | 0.9.0   |\n| tcp://10.151.151.59:58131 | 0.9.0   |\n+---------------------------+---------+"
     ]
    }
   ],
   "source": [
    "client.get_versions(check=True)"
   ]
  },
  {
   "cell_type": "code",
   "execution_count": 72,
   "metadata": {
    "ExecuteTime": {
     "end_time": "2019-04-28T18:24:14.929074Z",
     "start_time": "2019-04-28T18:24:14.820550Z"
    }
   },
   "outputs": [
    {
     "data": {
      "text/plain": [
       "{'address': 'tcp://10.151.151.124:8786',\n",
       " 'id': 'Scheduler-38b29877-56a3-4dbe-b60f-dfb174427b54',\n",
       " 'services': {'bokeh': 8787},\n",
       " 'type': 'Scheduler',\n",
       " 'workers': {}}"
      ]
     },
     "execution_count": 72,
     "metadata": {},
     "output_type": "execute_result"
    }
   ],
   "source": [
    "client.scheduler_info()"
   ]
  },
  {
   "cell_type": "markdown",
   "metadata": {},
   "source": [
    "For a GridSearch, we will define a wide range of parameters to be used in the pipeline. The new fhalf_scorer will be used for optimization."
   ]
  },
  {
   "cell_type": "code",
   "execution_count": 81,
   "metadata": {
    "ExecuteTime": {
     "end_time": "2019-04-28T18:41:20.164855Z",
     "start_time": "2019-04-28T18:37:02.150213Z"
    }
   },
   "outputs": [
    {
     "data": {
      "text/plain": [
       "GridSearchCV(cache_cv=True,\n",
       "       cv=TimeSeriesSplit(max_train_size=None, n_splits=3),\n",
       "       error_score='raise',\n",
       "       estimator=Pipeline(memory=None,\n",
       "     steps=[('standardScaler', StandardScaler(copy=True, with_mean=True, with_std=True)), ('randomForest', RandomForestClassifier(bootstrap=True, class_weight=None, criterion='gini',\n",
       "            max_depth=None, max_features='auto', max_leaf_nodes=None,\n",
       "            min_impurity_decrease=0.0, min_impurity_...obs=None,\n",
       "            oob_score=False, random_state=None, verbose=0,\n",
       "            warm_start=False))]),\n",
       "       iid=True, n_jobs=-1,\n",
       "       param_grid={'randomForest__min_samples_leaf': [2, 5, 10], 'randomForest__max_depth': [4, 5, 6, 7, 8], 'randomForest__max_features': [5, 'sqrt', 'log2'], 'randomForest__criterion': ['gini', 'entropy'], 'randomForest__n_estimators': [10, 20, 50, 100]},\n",
       "       refit=True, return_train_score='warn', scheduler=None, scoring='f1')"
      ]
     },
     "execution_count": 81,
     "metadata": {},
     "output_type": "execute_result"
    }
   ],
   "source": [
    "\n",
    "parameters = {\n",
    "    'randomForest__min_samples_leaf': [2, 5, 10],\n",
    "    'randomForest__n_estimators' : [10, 20, 50, 100],\n",
    "    'randomForest__max_features': [5, 'sqrt', 'log2'], # log2 of 690 = 9, sqrt of 690 = 20\n",
    "    'randomForest__max_depth' : [4, 5, 6, 7, 8],\n",
    "    'randomForest__criterion' :['gini', 'entropy']\n",
    "}\n",
    "'''\n",
    "parameters = {\n",
    "    'randomForest__min_samples_leaf': [2, 5, 10],\n",
    "    'randomForest__n_estimators' : [10, 20, 50, 100]\n",
    "    }\n",
    "'''\n",
    "my_cv = TimeSeriesSplit(n_splits=3)\n",
    "cv = dcv.GridSearchCV(pipeline, param_grid=parameters, cv=my_cv, scoring='f1', n_jobs=-1) # uses fhalf_scorer\n",
    "\n",
    "#with joblib.parallel_backend('dask'):\n",
    "cv.fit(X_train, y_train)"
   ]
  },
  {
   "cell_type": "code",
   "execution_count": null,
   "metadata": {
    "ExecuteTime": {
     "end_time": "2019-04-28T02:15:05.237624Z",
     "start_time": "2019-04-28T02:15:05.227110Z"
    }
   },
   "outputs": [],
   "source": [
    "print(cv.best_params_)\n",
    "pickle.dump(cv.best_params_, open('../models/GridSearch_vbetaone.pkl', 'wb'))"
   ]
  },
  {
   "cell_type": "code",
   "execution_count": null,
   "metadata": {},
   "outputs": [],
   "source": [
    "print_feature_importances(cv.best_estimator_.named_steps['randomForest'])"
   ]
  },
  {
   "cell_type": "code",
   "execution_count": null,
   "metadata": {},
   "outputs": [],
   "source": [
    "y_pred_GridSearch = cv.predict(X_test)\n",
    "\n",
    "# save for backtesting in separate notebook\n",
    "pickle.dump(y_pred_GridSearch, open('../data/model_predictions/y_pred_GridSearch_vbetaone.pkl', 'wb'))"
   ]
  },
  {
   "cell_type": "code",
   "execution_count": null,
   "metadata": {},
   "outputs": [],
   "source": [
    "print(classification_report(y_test, y_pred_GridSearch))"
   ]
  },
  {
   "cell_type": "code",
   "execution_count": null,
   "metadata": {},
   "outputs": [],
   "source": [
    "accuracy_score(y_test, y_pred_GridSearch)"
   ]
  },
  {
   "cell_type": "code",
   "execution_count": null,
   "metadata": {},
   "outputs": [],
   "source": [
    "confusion_matrix(y_test, y_pred_GridSearch, labels=[False, True])"
   ]
  },
  {
   "cell_type": "markdown",
   "metadata": {},
   "source": [
    "## next: resume in backtesting notebook to understand and measure true performance of the model predictions"
   ]
  },
  {
   "cell_type": "code",
   "execution_count": null,
   "metadata": {},
   "outputs": [],
   "source": []
  }
 ],
 "metadata": {
  "kernelspec": {
   "display_name": "Python [conda env:trader_env2]",
   "language": "python",
   "name": "conda-env-trader_env2-py"
  },
  "language_info": {
   "codemirror_mode": {
    "name": "ipython",
    "version": 3
   },
   "file_extension": ".py",
   "mimetype": "text/x-python",
   "name": "python",
   "nbconvert_exporter": "python",
   "pygments_lexer": "ipython3",
   "version": "3.5.6"
  },
  "varInspector": {
   "cols": {
    "lenName": 16,
    "lenType": 16,
    "lenVar": 40
   },
   "kernels_config": {
    "python": {
     "delete_cmd_postfix": "",
     "delete_cmd_prefix": "del ",
     "library": "var_list.py",
     "varRefreshCmd": "print(var_dic_list())"
    },
    "r": {
     "delete_cmd_postfix": ") ",
     "delete_cmd_prefix": "rm(",
     "library": "var_list.r",
     "varRefreshCmd": "cat(var_dic_list()) "
    }
   },
   "position": {
    "height": "618.722px",
    "left": "1183.45px",
    "right": "20px",
    "top": "138px",
    "width": "525.17px"
   },
   "types_to_exclude": [
    "module",
    "function",
    "builtin_function_or_method",
    "instance",
    "_Feature"
   ],
   "window_display": false
  }
 },
 "nbformat": 4,
 "nbformat_minor": 2
}
