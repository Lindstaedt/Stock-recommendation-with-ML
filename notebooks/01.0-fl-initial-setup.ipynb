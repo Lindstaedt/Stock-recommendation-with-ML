{
 "cells": [
  {
   "cell_type": "markdown",
   "metadata": {},
   "source": [
    "# Stock purchase recommendations with Machine Learning"
   ]
  },
  {
   "cell_type": "markdown",
   "metadata": {},
   "source": []
  },
  {
   "cell_type": "code",
   "execution_count": 2,
   "metadata": {},
   "outputs": [],
   "source": [
    "import pandas_datareader.data as web\n",
    "import pandas as pd\n",
    "import numpy as np\n",
    "import talib as ta\n",
    "import matplotlib.pyplot as plt\n",
    "from tqdm import tqdm # progress bar\n",
    "#import fastparquet\n",
    "#import zipline\n",
    "\n",
    "from sklearn.pipeline import Pipeline\n",
    "from sklearn.model_selection import train_test_split\n",
    "from sklearn.metrics import classification_report\n",
    "from sklearn.metrics import confusion_matrix\n",
    "from sklearn.metrics import accuracy_score\n",
    "from sklearn.model_selection import GridSearchCV\n",
    "from sklearn.preprocessing import StandardScaler\n",
    "\n",
    "from sklearn.ensemble import RandomForestClassifier"
   ]
  },
  {
   "cell_type": "code",
   "execution_count": 3,
   "metadata": {},
   "outputs": [],
   "source": [
    "pd.set_option('display.max_columns', 1500)"
   ]
  },
  {
   "cell_type": "code",
   "execution_count": 4,
   "metadata": {},
   "outputs": [],
   "source": [
    "# read in the Quandl.com API key - saved in separate file to keep it private\n",
    "\n",
    "filepath = '../confidential-API-key.txt'  \n",
    "with open(filepath) as fp:  \n",
    "   my_Quandl_API_key = fp.readline()"
   ]
  },
  {
   "cell_type": "markdown",
   "metadata": {},
   "source": [
    "## Load stock data from Quandl"
   ]
  },
  {
   "cell_type": "code",
   "execution_count": 5,
   "metadata": {},
   "outputs": [],
   "source": [
    "def load_stock_data(ticker, start_date, end_date, Quandl_API_key=my_Quandl_API_key):\n",
    "    '''\n",
    "    Downloads stock data from Quandl, drop some columns, resort datafram, and return\n",
    "    Inputs:\n",
    "        ticker - a stock ticker symbol (needs to be valid - no error checking implemented)\n",
    "        start_date - first date of stock prices\n",
    "        end_date - last date of stock prices\n",
    "        Quandl_API_key - string with valid API key for Quandl.com data queries\n",
    "    Outputs:\n",
    "        stock_data - DataFrame with stock price data, sorted in ascending date order\n",
    "    '''\n",
    "    \n",
    "    # download data from Quandl with Pandas Datareader\n",
    "    stock_data = web.DataReader(name=symbol, data_source='quandl', start=start_date, end=end_date, access_key=Quandl_API_key)\n",
    "    \n",
    "    # need ascending index for the TA-lib indicators to work properly\n",
    "    stock_data.sort_index(inplace=True)\n",
    "    \n",
    "    # keep only the columns with adjusted data to eliminate any issues due to stock splits\n",
    "    stock_data = stock_data[['AdjVolume', 'AdjOpen', 'AdjHigh', 'AdjLow', 'AdjClose']]\n",
    "    \n",
    "    # DataFram has a second level column index with the stock ticker - not needed so drop it\n",
    "    stock_data.columns = stock_data.columns.droplevel(1)\n",
    "    \n",
    "    # add row index (highest number is most recent date) - this will be used to later restack the rows for feature matrix\n",
    "    stock_data['row_index'] = range(0, stock_data.shape[0])\n",
    "    \n",
    "    return stock_data    "
   ]
  },
  {
   "cell_type": "code",
   "execution_count": 6,
   "metadata": {},
   "outputs": [
    {
     "data": {
      "text/html": [
       "<div>\n",
       "<style scoped>\n",
       "    .dataframe tbody tr th:only-of-type {\n",
       "        vertical-align: middle;\n",
       "    }\n",
       "\n",
       "    .dataframe tbody tr th {\n",
       "        vertical-align: top;\n",
       "    }\n",
       "\n",
       "    .dataframe thead th {\n",
       "        text-align: right;\n",
       "    }\n",
       "</style>\n",
       "<table border=\"1\" class=\"dataframe\">\n",
       "  <thead>\n",
       "    <tr style=\"text-align: right;\">\n",
       "      <th>Attributes</th>\n",
       "      <th>AdjVolume</th>\n",
       "      <th>AdjOpen</th>\n",
       "      <th>AdjHigh</th>\n",
       "      <th>AdjLow</th>\n",
       "      <th>AdjClose</th>\n",
       "      <th>row_index</th>\n",
       "    </tr>\n",
       "    <tr>\n",
       "      <th>Date</th>\n",
       "      <th></th>\n",
       "      <th></th>\n",
       "      <th></th>\n",
       "      <th></th>\n",
       "      <th></th>\n",
       "      <th></th>\n",
       "    </tr>\n",
       "  </thead>\n",
       "  <tbody>\n",
       "    <tr>\n",
       "      <th>2013-01-02</th>\n",
       "      <td>140129500.0</td>\n",
       "      <td>71.816894</td>\n",
       "      <td>71.969911</td>\n",
       "      <td>70.236149</td>\n",
       "      <td>71.195748</td>\n",
       "      <td>0</td>\n",
       "    </tr>\n",
       "    <tr>\n",
       "      <th>2013-01-03</th>\n",
       "      <td>88241300.0</td>\n",
       "      <td>71.046621</td>\n",
       "      <td>71.278740</td>\n",
       "      <td>70.154453</td>\n",
       "      <td>70.296565</td>\n",
       "      <td>1</td>\n",
       "    </tr>\n",
       "    <tr>\n",
       "      <th>2013-01-04</th>\n",
       "      <td>148583400.0</td>\n",
       "      <td>69.631213</td>\n",
       "      <td>69.847109</td>\n",
       "      <td>68.187094</td>\n",
       "      <td>68.338996</td>\n",
       "      <td>2</td>\n",
       "    </tr>\n",
       "    <tr>\n",
       "      <th>2013-01-07</th>\n",
       "      <td>121039100.0</td>\n",
       "      <td>67.690619</td>\n",
       "      <td>68.637250</td>\n",
       "      <td>66.808825</td>\n",
       "      <td>67.937002</td>\n",
       "      <td>3</td>\n",
       "    </tr>\n",
       "    <tr>\n",
       "      <th>2013-01-08</th>\n",
       "      <td>114676800.0</td>\n",
       "      <td>68.625579</td>\n",
       "      <td>68.973109</td>\n",
       "      <td>67.593362</td>\n",
       "      <td>68.119845</td>\n",
       "      <td>4</td>\n",
       "    </tr>\n",
       "  </tbody>\n",
       "</table>\n",
       "</div>"
      ],
      "text/plain": [
       "Attributes    AdjVolume    AdjOpen    AdjHigh     AdjLow   AdjClose  row_index\n",
       "Date                                                                          \n",
       "2013-01-02  140129500.0  71.816894  71.969911  70.236149  71.195748          0\n",
       "2013-01-03   88241300.0  71.046621  71.278740  70.154453  70.296565          1\n",
       "2013-01-04  148583400.0  69.631213  69.847109  68.187094  68.338996          2\n",
       "2013-01-07  121039100.0  67.690619  68.637250  66.808825  67.937002          3\n",
       "2013-01-08  114676800.0  68.625579  68.973109  67.593362  68.119845          4"
      ]
     },
     "execution_count": 6,
     "metadata": {},
     "output_type": "execute_result"
    }
   ],
   "source": [
    "# test loading stock data:\n",
    "\n",
    "start = '2013-01-01'\n",
    "end = '2019-04-06'\n",
    "symbol = ['AAPL']\n",
    "\n",
    "df = load_stock_data(symbol, start, end)\n",
    "\n",
    "df.head()"
   ]
  },
  {
   "cell_type": "code",
   "execution_count": null,
   "metadata": {},
   "outputs": [],
   "source": [
    "df.shape"
   ]
  },
  {
   "cell_type": "code",
   "execution_count": null,
   "metadata": {},
   "outputs": [],
   "source": [
    "df.tail()"
   ]
  },
  {
   "cell_type": "markdown",
   "metadata": {},
   "source": [
    "## Define Target column: profitability of trade\n",
    "\n",
    "The goal is the define a column \"setup_for_profitable_trade\" based on a trading strategy. The data will be analyzed for this trade setup:\n",
    "\n",
    "Run the analysis in the evening after market close. That day's row of market data will then be either deemed as profitable or not for a trade to be initiated and closed in the following days. This setup of the data ensures no lookahead is happening."
   ]
  },
  {
   "cell_type": "markdown",
   "metadata": {},
   "source": [
    "## Trading Strategy:\n",
    "\n",
    "1. After market close on day N decide if buying stock at market Open on day N+1\n",
    "2. Open position: submit market order for day N+1 prior to market open\n",
    "3. Close position: submit sell order for market open for day N+10\n",
    "\n",
    "Threshold to decide to buy the stock: expected profit from open to close: 2.5% profit\n",
    "\n",
    "Store in row N if this trade was deemed profitable."
   ]
  },
  {
   "cell_type": "code",
   "execution_count": null,
   "metadata": {},
   "outputs": [],
   "source": [
    "def add_flag_for_profitable_trade_setups(df, delete_interim_calculation_cols=True):\n",
    "    '''\n",
    "    Adds column to dataframe that identifies profitable trading setup\n",
    "    Inputs:\n",
    "        df - dataframe with stock data\n",
    "        delete_interim_calculation_cols - if false: keep the interim calculations - good for debugging\n",
    "    Outputs:\n",
    "        df - dataframe with additional columns\n",
    "    \n",
    "    '''\n",
    "    \n",
    "    # trade strategy: after market close on day N, set a buy at market open on day N+1 and sell at market close on day N+1\n",
    "    # for expected gain of at least 2.5%\n",
    "    profitability_threshold = 0.025\n",
    "\n",
    "    # use helper columns to calculate profit\n",
    "    df['strategy_open_price'] = df['AdjOpen'].shift(-1) # AdjOpen from day N+1\n",
    "    df['strategy_close_price'] = df['AdjOpen'].shift(-10) # AdjOpen from day N+10\n",
    "    df['strategy_profit_dollars'] = df['strategy_close_price'] - df['strategy_open_price']\n",
    "    df['strategy_profitability'] = df['strategy_profit_dollars'] / df['strategy_open_price']\n",
    "\n",
    "    # use categorical field to encode \"setup_for_succesful_trade\": 1=yes, 0=no\n",
    "    df['setup_for_profitable_trade'] = df['strategy_profitability'] >= profitability_threshold\n",
    "    \n",
    "    if delete_interim_calculation_cols:\n",
    "        df = df.drop(columns=['strategy_open_price', 'strategy_close_price', 'strategy_profit_dollars', 'strategy_profitability'])\n",
    "    \n",
    "    # drop any rows that have NaNs in them. especially the last few rows will have NaNs because the profitability calc\n",
    "    # looks into the future beyond the last row. these rows need to get deleted - the profitability is not defined there\n",
    "    df = df.loc[df.notnull().all(axis=1), :]\n",
    "    \n",
    "    return df"
   ]
  },
  {
   "cell_type": "code",
   "execution_count": null,
   "metadata": {},
   "outputs": [],
   "source": [
    "# testing: show calculations:\n",
    "df = add_flag_for_profitable_trade_setups(df, False)\n",
    "df.tail(10)"
   ]
  },
  {
   "cell_type": "code",
   "execution_count": null,
   "metadata": {},
   "outputs": [],
   "source": [
    "# without verbose results:\n",
    "df = add_flag_for_profitable_trade_setups(df)\n",
    "df.tail(10)"
   ]
  },
  {
   "cell_type": "code",
   "execution_count": null,
   "metadata": {},
   "outputs": [],
   "source": [
    "df['setup_for_profitable_trade'].sum()"
   ]
  },
  {
   "cell_type": "markdown",
   "metadata": {},
   "source": [
    "## Feature Engineering"
   ]
  },
  {
   "cell_type": "code",
   "execution_count": null,
   "metadata": {},
   "outputs": [],
   "source": [
    "#split df into features and target (column setup_for_profitable_trade)\n",
    "df_X_base_data = df.drop(columns=['setup_for_profitable_trade'])"
   ]
  },
  {
   "cell_type": "markdown",
   "metadata": {},
   "source": [
    "### Feature Engineering - Add Technical Analysis Indicators"
   ]
  },
  {
   "cell_type": "code",
   "execution_count": null,
   "metadata": {},
   "outputs": [],
   "source": [
    "def add_TALib_indicator(df, attribute, indicator_func, *args):\n",
    "    '''\n",
    "    Adds a column to a dataframe:\n",
    "        column name is the name of the technical indicator as specified by indicator_func\n",
    "        column content is the function calculated on the attribute column\n",
    "    Example: add_TALib_indicator(df, 'AdjClose', ta.RSI, 14) creates a new column called RSI with \n",
    "             the 14 day RSI of the values of the column 'AdjClose'\n",
    "    Inputs:\n",
    "        df - dataframe - needs to be sorted in date ascending order\n",
    "        attribute - column name to be used in TA-Lib calculation\n",
    "        indicator_func - name of a TA-Lib function\n",
    "        *args - optional parameters for indicator_func\n",
    "        \n",
    "    Oupputs:\n",
    "        df - datarame with new column added\n",
    "        func_name - name of the new colunm\n",
    "    \n",
    "    '''\n",
    "    # get the name of the indicator from TA-Lib\n",
    "    func_name = attribute + indicator_func.__name__ + str(*args)\n",
    "    \n",
    "    # add new column, calculated based on attribute column\n",
    "    df.loc[:, func_name] = indicator_func(df.loc[:, attribute].values, *args)\n",
    "    \n",
    "    return df, func_name"
   ]
  },
  {
   "cell_type": "code",
   "execution_count": null,
   "metadata": {},
   "outputs": [],
   "source": [
    "def add_comparison_cols_for_indicator(df, base_col_name, indicator_col_name, delete_indicator_col=True):\n",
    "    '''\n",
    "    adds columns that compare indicator_col to base_col: ratio, crossover, above/below\n",
    "    Inputs:\n",
    "        df - dataframe\n",
    "        base_col_name - name of column that the indicator will get compared to\n",
    "        indicator_col_name - name of column that has indicator values\n",
    "        delete_base_col - yes/no on if to keep the base col or not\n",
    "    Output:\n",
    "        df - modified df with added & removed columns\n",
    "    '''\n",
    "   \n",
    "    # indicator to base column ratio:\n",
    "    df.loc[:, indicator_col_name + '_to_' + base_col_name + '_ratio'] = df.loc[:, indicator_col_name] / df.loc[:, base_col_name]\n",
    "    \n",
    "    # base col above indicator:\n",
    "    base_above_indicator_col_name = base_col_name + '_above_' + indicator_col_name\n",
    "    df.loc[:, base_above_indicator_col_name] = df.loc[:, indicator_col_name] < df.loc[:, base_col_name]\n",
    "    \n",
    "    # did base cross indicator\n",
    "    base_crossed_indicator_col_name = base_col_name + '_crossed_' + indicator_col_name\n",
    "    df.loc[:, base_crossed_indicator_col_name] = df.loc[:, base_above_indicator_col_name] != df.loc[:, base_above_indicator_col_name].shift(1)\n",
    "    \n",
    "    if delete_indicator_col:\n",
    "        df = df.drop(columns=indicator_col_name)\n",
    "    \n",
    "    return df"
   ]
  },
  {
   "cell_type": "code",
   "execution_count": null,
   "metadata": {},
   "outputs": [],
   "source": [
    "df_X_base_data, indicator_name = add_TALib_indicator(df_X_base_data, 'AdjClose', ta.RSI, 14)\n",
    "df_X_base_data = add_comparison_cols_for_indicator(df_X_base_data, 'AdjClose', indicator_name, delete_indicator_col=False)\n",
    "\n",
    "df_X_base_data, indicator_name = add_TALib_indicator(df_X_base_data, 'AdjClose', ta.SMA, 10)\n",
    "df_X_base_data = add_comparison_cols_for_indicator(df_X_base_data, 'AdjClose', indicator_name, delete_indicator_col=False)\n",
    "\n",
    "df_X_base_data, indicator_name = add_TALib_indicator(df_X_base_data, 'AdjClose', ta.SMA, 50)\n",
    "df_X_base_data = add_comparison_cols_for_indicator(df_X_base_data, 'AdjClose', indicator_name, delete_indicator_col=False)\n",
    "\n",
    "df_X_base_data, indicator_name = add_TALib_indicator(df_X_base_data, 'AdjClose', ta.SMA, 200)\n",
    "df_X_base_data = add_comparison_cols_for_indicator(df_X_base_data, 'AdjClose', indicator_name, delete_indicator_col=False)\n",
    "\n",
    "\n",
    "df_X_base_data.tail()"
   ]
  },
  {
   "cell_type": "code",
   "execution_count": null,
   "metadata": {},
   "outputs": [],
   "source": [
    "df_X_base_data.head(16)\n",
    "#confirms NaN for RSI on top for first 14 dates since it is a 14 day RSI"
   ]
  },
  {
   "cell_type": "markdown",
   "metadata": {},
   "source": [
    "### Feature Engineering - Changing from actual values to percentage changes"
   ]
  },
  {
   "cell_type": "code",
   "execution_count": null,
   "metadata": {},
   "outputs": [],
   "source": [
    "def feat_eng_changes_values_to_change(df, cols_set_vals_to_change, delete_original_cols=True):\n",
    "    '''\n",
    "    Instead of the actual values in some columns, we care about the change from one day to the next.\n",
    "    This function calculates that change for the given columns and then either keeps or drops (default) the origianl columns\n",
    "    Input:\n",
    "        df - a dataframe\n",
    "        cols_set_vals_to_change - names of columns to work on.\n",
    "        delete_original_cols - keep or delete original columns\n",
    "    Output:\n",
    "        df - dataframe with new columns added. the value in row N is now the change from row N-1 to row N (instead of the actual values)\n",
    "    '''    \n",
    "\n",
    "    # calculate the change from row N-1 to row N\n",
    "    df_chg_cols = (df[cols_set_vals_to_change] / df[cols_set_vals_to_change].shift(1) - 1)\n",
    "\n",
    "    # add suffix to the column names\n",
    "    df_chg_cols = df_chg_cols.add_suffix('_chg')\n",
    "\n",
    "    # join the data onto the original data fram\n",
    "    df = df.join(df_chg_cols)\n",
    "\n",
    "    if delete_original_cols:\n",
    "        # drop the original columns\n",
    "        df = df.drop(columns=cols_set_vals_to_change)\n",
    "        \n",
    "    return df\n",
    "\n",
    "cols_set_vals_to_change = ['AdjVolume', 'AdjOpen', 'AdjLow', 'AdjHigh', 'AdjClose']\n",
    "df_X_base_data = feat_eng_changes_values_to_change(df_X_base_data, cols_set_vals_to_change, delete_original_cols=False)\n",
    "\n",
    "df_X_base_data.tail()"
   ]
  },
  {
   "cell_type": "markdown",
   "metadata": {},
   "source": [
    "### Feature Engineering - Reshaping the prior day data into ML-ready features matrix\n",
    "#### --- build pieces for the dataframe section unpivoting ---\n",
    "Goal: pull out n_features rows, flatten, and build meaningful column names that indicate how many days' back the data is from"
   ]
  },
  {
   "cell_type": "code",
   "execution_count": null,
   "metadata": {},
   "outputs": [],
   "source": [
    "# parameter for how many days of history to include in feature list\n",
    "n_days_features = 5\n",
    "\n",
    "# total lenght of df\n",
    "n_data_points = df.shape[0]"
   ]
  },
  {
   "cell_type": "code",
   "execution_count": null,
   "metadata": {},
   "outputs": [],
   "source": [
    "i = 505\n",
    "# pull out n_days_features of rows from current position\n",
    "df_extract = df_X_base_data.iloc[i-n_days_features:i, :].copy()\n",
    "\n",
    "# change the index the be \"days into the past\" - eg current day is 0, prior day is -1, ...\n",
    "df_extract.loc[:, 'row_index'] = range(-n_days_features+1, 1)\n",
    "\n",
    "# make this the new index\n",
    "df_extract.set_index('row_index', inplace=True)\n",
    "\n",
    "df_extract"
   ]
  },
  {
   "cell_type": "code",
   "execution_count": null,
   "metadata": {},
   "outputs": [],
   "source": [
    "# normalize columns from dollars to \"1\" - turns the columns into ratios compared to day N (index 0)\n",
    "\n",
    "cols_to_normalize_to_1_for_day_0 = ['AdjVolume', 'AdjOpen', 'AdjLow', 'AdjHigh', 'AdjClose']\n",
    "\n",
    "df_extract.loc[:, cols_to_normalize_to_1_for_day_0] = df_extract.loc[:, cols_to_normalize_to_1_for_day_0] / df_extract.loc[0, cols_to_normalize_to_1_for_day_0]\n",
    "\n",
    "df_extract"
   ]
  },
  {
   "cell_type": "code",
   "execution_count": null,
   "metadata": {},
   "outputs": [],
   "source": [
    "# unstack and make it tall (ie unpivot)\n",
    "df_extract = df_extract.unstack().reset_index()\n",
    "df_extract"
   ]
  },
  {
   "cell_type": "code",
   "execution_count": null,
   "metadata": {},
   "outputs": [],
   "source": [
    "# create new column with combined field names of attribute and index\n",
    "# eg: AdjClose-1 for the adjusted close of day N-1 or AdjHigh-4 for the adjusted High of day N-4\n",
    "df_extract['Attribute-index'] = df_extract['Attributes'] + df_extract['row_index'].apply(str)\n",
    "# then drop Attributes and row_index columns since they are not needed anymore\n",
    "df_extract.drop(columns=['Attributes', 'row_index'], inplace=True)\n",
    "df_extract"
   ]
  },
  {
   "cell_type": "code",
   "execution_count": null,
   "metadata": {},
   "outputs": [],
   "source": [
    "# set index one and transpose\n",
    "target_row = df_extract.set_index('Attribute-index').T\n",
    "# we now have one row of data that represents the prior n_feature_days worth of data:\n",
    "target_row"
   ]
  },
  {
   "cell_type": "code",
   "execution_count": null,
   "metadata": {},
   "outputs": [],
   "source": [
    "df_X_base_data.index.to_list()[504]"
   ]
  },
  {
   "cell_type": "code",
   "execution_count": null,
   "metadata": {},
   "outputs": [],
   "source": [
    "target_row['Index'] = df_X_base_data.index.to_list()[504]\n",
    "target_row = target_row.set_index('Index')\n",
    "target_row"
   ]
  },
  {
   "cell_type": "markdown",
   "metadata": {},
   "source": [
    "#### --- done building the pieces, now implement in one loop to cycle through all rows of df ---"
   ]
  },
  {
   "cell_type": "code",
   "execution_count": null,
   "metadata": {},
   "outputs": [],
   "source": [
    "def create_feature_cols_df(df_X_base_data,\n",
    "                           n_days_features=n_days_features,\n",
    "                           cols_to_normalize_to_1_for_day_0 = ['AdjVolume', 'AdjOpen', 'AdjLow', 'AdjHigh', 'AdjClose']):\n",
    "    '''\n",
    "    Take dataframe with date index (sorted increasing time) with multiple columns and return a new wider dataframe\n",
    "    where the rows for the last n_days_features have been pivoted into additional columns\n",
    "    Input:\n",
    "        df_X_base_data - dataframe with date index\n",
    "        n_days_features - number of prior days that are pivoted into the rows\n",
    "        cols_to_normalize_to_1_for_day_0 - columns that will be normalized for day N. eg prices, volumes\n",
    "    Output:\n",
    "        df_X - datafram that has length of df_X_base_data.shape[0] - n_days_features and more columns than df_X_base_data\n",
    "    '''\n",
    "    \n",
    "    df_X = pd.DataFrame()\n",
    "    \n",
    "    # total lenght of df\n",
    "    n_data_points = df_X_base_data.shape[0]\n",
    "    \n",
    "    # cycle through each row of df, start at n_days_features-1 because we wouldn't have enough history for first rows\n",
    "    for i in tqdm(range(n_days_features, n_data_points+1), desc='reshaping data into feature rows'):\n",
    "        # i contains the rows number of df\n",
    "\n",
    "        df_extract = df_X_base_data.iloc[i-n_days_features:i, :]\n",
    "\n",
    "        # pull out n_days_features of rows from current position\n",
    "        df_extract = df_X_base_data.iloc[i-n_days_features:i, :].copy()\n",
    "\n",
    "        # change the index to be \"days into the past\" - eg current day is 0, prior day is -1, ...\n",
    "        df_extract.loc[:, 'row_index'] = range(-n_days_features+1, 1)\n",
    "\n",
    "        # make this the new index\n",
    "        df_extract.set_index('row_index', inplace=True)\n",
    "        \n",
    "        # normalize columns from dollars to \"1\" - turns the columns into ratios compared to day N (index 0)\n",
    "        df_extract.loc[:, cols_to_normalize_to_1_for_day_0] = df_extract.loc[:, cols_to_normalize_to_1_for_day_0] / df_extract.loc[0, cols_to_normalize_to_1_for_day_0]\n",
    "\n",
    "        # unstack and make it tall (ie unpivot)\n",
    "        df_extract = df_extract.unstack().reset_index()\n",
    "\n",
    "        # create new column with combined field names of attribute and index\n",
    "        # eg: AdjClose_-1 for the adjusted close of day N-1 or AdjHigh_-4 for the adjusted High of day N-4\n",
    "        df_extract['Attribute-index'] = df_extract['Attributes'] + '_' + df_extract['row_index'].apply(str)\n",
    "        # then drop Attributes and row_index columns since they are not needed anymore\n",
    "        df_extract.drop(columns=['Attributes', 'row_index'], inplace=True)\n",
    "\n",
    "        # set index one and transpose\n",
    "        target_row = df_extract.set_index('Attribute-index').T\n",
    "        # we now have one row of data that represents the prior n_feature_days worth of data\n",
    "\n",
    "        # fill in the target_row index with the date from the index of the source dataframe df_X_base_data (ie, day N)\n",
    "        target_row['Index'] = df_X_base_data.index.to_list()[i-1] # zero-indexed so need minus 1\n",
    "        target_row = target_row.set_index('Index')\n",
    "\n",
    "        df_X = df_X.append(target_row)\n",
    "        \n",
    "    return df_X"
   ]
  },
  {
   "cell_type": "code",
   "execution_count": null,
   "metadata": {},
   "outputs": [],
   "source": [
    "# split df into features and target (column setup_for_profitable_trade)\n",
    "df_X_base_data = df.drop(columns=['setup_for_profitable_trade'])\n",
    "df_y = df['setup_for_profitable_trade']\n",
    "\n",
    "# add technical indicators\n",
    "\n",
    "# RSI\n",
    "df_X_base_data, indicator_name = add_TALib_indicator(df_X_base_data, 'AdjClose', ta.RSI, 14)\n",
    "# add threshold columns for above 80 and below 20\n",
    "df_X_base_data.loc[:, 'RSI_above_80'] = df_X_base_data.loc[:, indicator_name] > 80\n",
    "df_X_base_data.loc[:, 'RSI_below_20'] = df_X_base_data.loc[:, indicator_name] < 20\n",
    "# normalize to values between 0 and 1\n",
    "df_X_base_data.loc[:, indicator_name] = df_X_base_data.loc[:, indicator_name] / 100\n",
    "\n",
    "df_X_base_data, indicator_name = add_TALib_indicator(df_X_base_data, 'AdjClose', ta.SMA, 10)\n",
    "df_X_base_data = add_comparison_cols_for_indicator(df_X_base_data, 'AdjClose', indicator_name, delete_indicator_col=True)\n",
    "\n",
    "df_X_base_data, indicator_name = add_TALib_indicator(df_X_base_data, 'AdjClose', ta.SMA, 50)\n",
    "df_X_base_data = add_comparison_cols_for_indicator(df_X_base_data, 'AdjClose', indicator_name, delete_indicator_col=True)\n",
    "\n",
    "df_X_base_data, indicator_name = add_TALib_indicator(df_X_base_data, 'AdjClose', ta.SMA, 200)\n",
    "df_X_base_data = add_comparison_cols_for_indicator(df_X_base_data, 'AdjClose', indicator_name, delete_indicator_col=True)\n",
    "\n",
    "# feature engineering: instead of dollars/absolute values, calculate change from one day to next\n",
    "cols_set_vals_to_change = ['AdjVolume', 'AdjOpen', 'AdjLow', 'AdjHigh', 'AdjClose']\n",
    "df_X_base_data = feat_eng_changes_values_to_change(df_X_base_data, cols_set_vals_to_change, delete_original_cols=False)\n",
    "\n",
    "# create wide features matrix that includes prior days' data as columns\n",
    "df_X = create_feature_cols_df(df_X_base_data,\n",
    "                              n_days_features= 20,\n",
    "                              cols_to_normalize_to_1_for_day_0 = ['AdjVolume', 'AdjOpen', 'AdjLow', 'AdjHigh', 'AdjClose'])\n",
    "\n",
    "df_X.tail()"
   ]
  },
  {
   "cell_type": "code",
   "execution_count": null,
   "metadata": {},
   "outputs": [],
   "source": [
    "df_X.shape"
   ]
  },
  {
   "cell_type": "code",
   "execution_count": null,
   "metadata": {},
   "outputs": [],
   "source": [
    "fastparquet.write('./data/interim/df_X.parq', df_X)"
   ]
  },
  {
   "cell_type": "code",
   "execution_count": null,
   "metadata": {},
   "outputs": [],
   "source": [
    "df_X = fastparquet.ParquetFile('./data/interim/df_X.parq').to_pandas()\n",
    "df_X.tail()"
   ]
  },
  {
   "cell_type": "markdown",
   "metadata": {},
   "source": [
    "### Feature Engineering - Date information"
   ]
  },
  {
   "cell_type": "code",
   "execution_count": null,
   "metadata": {},
   "outputs": [],
   "source": [
    "def feat_eng_append_date_index_content(df):\n",
    "    '''\n",
    "    Assumes that the df index is date-time. Bolts on additional columns about the date\n",
    "    '''\n",
    "\n",
    "    df['year'] = df.index.year.values\n",
    "    df['month'] = df.index.month.values\n",
    "    df['week'] = df.index.week.values\n",
    "    df['weekday'] = df.index.weekday.values\n",
    "    df['day'] = df.index.day.values\n",
    "    df['year'] = df.index.year.values\n",
    "    df['year'] = df.index.year.values\n",
    "    \n",
    "    return df\n",
    "    \n",
    "df_X = feat_eng_append_date_index_content(df_X)\n",
    "df_X.tail()"
   ]
  },
  {
   "cell_type": "markdown",
   "metadata": {},
   "source": [
    "##### just testing aroung: can also use only one or a few columns and then join the dataframes back together"
   ]
  },
  {
   "cell_type": "code",
   "execution_count": null,
   "metadata": {},
   "outputs": [],
   "source": [
    "#df_XO = create_feature_cols_df(df_X_base_data[['AdjOpen']])\n",
    "#df_XO.tail()"
   ]
  },
  {
   "cell_type": "code",
   "execution_count": null,
   "metadata": {},
   "outputs": [],
   "source": [
    "#df_X.join(df_XO).tail()"
   ]
  },
  {
   "cell_type": "markdown",
   "metadata": {},
   "source": [
    "## Machine Learning"
   ]
  },
  {
   "cell_type": "markdown",
   "metadata": {},
   "source": [
    "### Build Model"
   ]
  },
  {
   "cell_type": "code",
   "execution_count": null,
   "metadata": {},
   "outputs": [],
   "source": [
    "# need to remove first n_days_features rows - they were eliminated during build of df_X and sizes need to match\n",
    "df_y = df_y.iloc[n_days_features-1:]"
   ]
  },
  {
   "cell_type": "code",
   "execution_count": null,
   "metadata": {},
   "outputs": [],
   "source": [
    "# remove all rows that have any NaNs in them - they come from technical indicators or the reshaping and we just don't have \n",
    "# any good strategy for imputation other than starting with more time series data\n",
    "df_X = df_X.loc[df_X.notnull().all(axis=1), :]\n",
    "df_X.shape"
   ]
  },
  {
   "cell_type": "code",
   "execution_count": null,
   "metadata": {},
   "outputs": [],
   "source": [
    "# now we need to keep the same rows that we kept in df_X in df_y. We'll use the index to filter\n",
    "df_y = df_y.loc[df_X.index]\n",
    "df_y.shape"
   ]
  },
  {
   "cell_type": "code",
   "execution_count": null,
   "metadata": {},
   "outputs": [],
   "source": [
    "X_train, X_test, y_train, y_test = train_test_split(df_X, df_y, test_size=0.2, shuffle=False)"
   ]
  },
  {
   "cell_type": "code",
   "execution_count": null,
   "metadata": {},
   "outputs": [],
   "source": [
    "pipeline = Pipeline([\n",
    "    ('standardScaler', StandardScaler()),\n",
    "    ('randomForest', RandomForestClassifier())\n",
    "])\n",
    "pipeline.get_params()"
   ]
  },
  {
   "cell_type": "code",
   "execution_count": null,
   "metadata": {},
   "outputs": [],
   "source": [
    "pipeline.fit(X_train, y_train)"
   ]
  },
  {
   "cell_type": "code",
   "execution_count": null,
   "metadata": {},
   "outputs": [],
   "source": [
    "y_pred = pipeline.predict(X_test)"
   ]
  },
  {
   "cell_type": "code",
   "execution_count": null,
   "metadata": {},
   "outputs": [],
   "source": [
    "print(classification_report(y_test, y_pred))"
   ]
  },
  {
   "cell_type": "code",
   "execution_count": null,
   "metadata": {},
   "outputs": [],
   "source": [
    "accuracy_score(y_test, y_pred)"
   ]
  },
  {
   "cell_type": "code",
   "execution_count": null,
   "metadata": {},
   "outputs": [],
   "source": [
    "confusion_matrix(y_test, y_pred, labels=[False, True])"
   ]
  },
  {
   "cell_type": "code",
   "execution_count": null,
   "metadata": {},
   "outputs": [],
   "source": [
    "def print_feature_importances(estimator):\n",
    "\n",
    "    importances = estimator.feature_importances_\n",
    "    indices = np.argsort(importances)[::-1]\n",
    "\n",
    "    # Print the feature ranking\n",
    "    print(\"Feature ranking:\")\n",
    "\n",
    "    for f in range(X_train.shape[1]):\n",
    "        print(str(f + 1) + \" importance: \" + str(importances[indices[f]]) + \". feature name: \" + X_train.columns[indices[f]])\n",
    "        \n",
    "print_feature_importances(pipeline.named_steps['randomForest'])"
   ]
  },
  {
   "cell_type": "markdown",
   "metadata": {},
   "source": [
    "### Improve RandomForest model"
   ]
  },
  {
   "cell_type": "code",
   "execution_count": null,
   "metadata": {},
   "outputs": [],
   "source": [
    "parameters = {\n",
    "    'randomForest__min_samples_leaf': [1, 2, 5, 10]\n",
    "}\n",
    "\n",
    "cv = GridSearchCV(pipeline, param_grid=parameters, cv=5, scoring='f1', n_jobs=-1, verbose=6)\n",
    "cv.fit(X_train, y_train)"
   ]
  },
  {
   "cell_type": "code",
   "execution_count": null,
   "metadata": {},
   "outputs": [],
   "source": [
    "cv.best_params_"
   ]
  },
  {
   "cell_type": "code",
   "execution_count": null,
   "metadata": {},
   "outputs": [],
   "source": [
    "print_feature_importances(cv.best_estimator_.named_steps['randomForest'])"
   ]
  },
  {
   "cell_type": "code",
   "execution_count": null,
   "metadata": {},
   "outputs": [],
   "source": [
    "y_pred = cv.predict(X_test)"
   ]
  },
  {
   "cell_type": "code",
   "execution_count": null,
   "metadata": {},
   "outputs": [],
   "source": [
    "print(classification_report(y_test, y_pred))"
   ]
  },
  {
   "cell_type": "code",
   "execution_count": null,
   "metadata": {},
   "outputs": [],
   "source": [
    "accuracy_score(y_test, y_pred)"
   ]
  },
  {
   "cell_type": "code",
   "execution_count": null,
   "metadata": {},
   "outputs": [],
   "source": [
    "confusion_matrix(y_test, y_pred, labels=[False, True])"
   ]
  },
  {
   "cell_type": "code",
   "execution_count": null,
   "metadata": {
    "scrolled": false
   },
   "outputs": [],
   "source": [
    "X_test.join(y_test)"
   ]
  },
  {
   "cell_type": "markdown",
   "metadata": {},
   "source": [
    "## next: add backtesting"
   ]
  },
  {
   "cell_type": "code",
   "execution_count": null,
   "metadata": {},
   "outputs": [],
   "source": []
  },
  {
   "cell_type": "markdown",
   "metadata": {},
   "source": [
    "## use TPOT\n",
    "## add column for stock\n",
    "## add additional technical indicators\n",
    "## add crossover metrics"
   ]
  },
  {
   "cell_type": "code",
   "execution_count": null,
   "metadata": {},
   "outputs": [],
   "source": []
  }
 ],
 "metadata": {
  "kernelspec": {
   "display_name": "Python 3",
   "language": "python",
   "name": "python3"
  },
  "language_info": {
   "codemirror_mode": {
    "name": "ipython",
    "version": 3
   },
   "file_extension": ".py",
   "mimetype": "text/x-python",
   "name": "python",
   "nbconvert_exporter": "python",
   "pygments_lexer": "ipython3",
   "version": "3.7.3"
  }
 },
 "nbformat": 4,
 "nbformat_minor": 2
}
